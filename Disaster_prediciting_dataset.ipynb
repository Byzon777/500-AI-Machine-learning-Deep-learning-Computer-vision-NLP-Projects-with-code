{
  "nbformat": 4,
  "nbformat_minor": 0,
  "metadata": {
    "colab": {
      "provenance": [],
      "authorship_tag": "ABX9TyPJXHQd91BJHIi0xS/c5jwZ",
      "include_colab_link": true
    },
    "kernelspec": {
      "name": "python3",
      "display_name": "Python 3"
    },
    "language_info": {
      "name": "python"
    }
  },
  "cells": [
    {
      "cell_type": "markdown",
      "metadata": {
        "id": "view-in-github",
        "colab_type": "text"
      },
      "source": [
        "<a href=\"https://colab.research.google.com/github/Byzon777/500-AI-Machine-learning-Deep-learning-Computer-vision-NLP-Projects-with-code/blob/main/Disaster_prediciting_dataset.ipynb\" target=\"_parent\"><img src=\"https://colab.research.google.com/assets/colab-badge.svg\" alt=\"Open In Colab\"/></a>"
      ]
    },
    {
      "cell_type": "markdown",
      "source": [
        "# Disaster-Ready Community: AI-Powered Disaster Risk Assessment and Prediction"
      ],
      "metadata": {
        "id": "4SAmPGKWFUk7"
      }
    },
    {
      "cell_type": "markdown",
      "source": [
        "The project's goal is to build a model to predict the disaster risk index (WRI) for various countries.\n",
        "\n",
        "This model is designed to accomplish that by:\n",
        "\n",
        "*   Utilizing Relevant Features: Features like exposure, vulnerability, susceptibility, and coping/adaptive capacities are well-aligned with understanding disaster risk.\n",
        "*   Handling Real-World Data: Standardization, batch normalization, and dropout (if extended) make the model robust against inconsistencies often found in real-world data.\n",
        "*   Evaluating Predictive Accuracy: MAE, MSE, and R2 offer a comprehensive view of the model’s predictive power, showing that it can generalize well to new data.\n",
        "\n",
        "This neural network model with its high accuracy metrics can serve as a reliable tool for assessing disaster risk index predictions across different countries. It provides stakeholders and policymakers with valuable insights, helping them prioritize resources, enhance resilience, and make informed decisions to mitigate disaster risks globally."
      ],
      "metadata": {
        "id": "9bNKb-Pt3zHu"
      }
    },
    {
      "cell_type": "code",
      "source": [
        "!pip install --upgrade tensorflow"
      ],
      "metadata": {
        "colab": {
          "base_uri": "https://localhost:8080/"
        },
        "collapsed": true,
        "id": "SxJJ-qVZfXjQ",
        "outputId": "19169f66-3c4e-4bfd-e3b8-407345123900"
      },
      "execution_count": null,
      "outputs": [
        {
          "output_type": "stream",
          "name": "stdout",
          "text": [
            "Requirement already satisfied: tensorflow in /usr/local/lib/python3.10/dist-packages (2.17.0)\n",
            "Collecting tensorflow\n",
            "  Downloading tensorflow-2.18.0-cp310-cp310-manylinux_2_17_x86_64.manylinux2014_x86_64.whl.metadata (4.1 kB)\n",
            "Requirement already satisfied: absl-py>=1.0.0 in /usr/local/lib/python3.10/dist-packages (from tensorflow) (1.4.0)\n",
            "Requirement already satisfied: astunparse>=1.6.0 in /usr/local/lib/python3.10/dist-packages (from tensorflow) (1.6.3)\n",
            "Requirement already satisfied: flatbuffers>=24.3.25 in /usr/local/lib/python3.10/dist-packages (from tensorflow) (24.3.25)\n",
            "Requirement already satisfied: gast!=0.5.0,!=0.5.1,!=0.5.2,>=0.2.1 in /usr/local/lib/python3.10/dist-packages (from tensorflow) (0.6.0)\n",
            "Requirement already satisfied: google-pasta>=0.1.1 in /usr/local/lib/python3.10/dist-packages (from tensorflow) (0.2.0)\n",
            "Requirement already satisfied: libclang>=13.0.0 in /usr/local/lib/python3.10/dist-packages (from tensorflow) (18.1.1)\n",
            "Requirement already satisfied: opt-einsum>=2.3.2 in /usr/local/lib/python3.10/dist-packages (from tensorflow) (3.4.0)\n",
            "Requirement already satisfied: packaging in /usr/local/lib/python3.10/dist-packages (from tensorflow) (24.1)\n",
            "Requirement already satisfied: protobuf!=4.21.0,!=4.21.1,!=4.21.2,!=4.21.3,!=4.21.4,!=4.21.5,<6.0.0dev,>=3.20.3 in /usr/local/lib/python3.10/dist-packages (from tensorflow) (3.20.3)\n",
            "Requirement already satisfied: requests<3,>=2.21.0 in /usr/local/lib/python3.10/dist-packages (from tensorflow) (2.32.3)\n",
            "Requirement already satisfied: setuptools in /usr/local/lib/python3.10/dist-packages (from tensorflow) (75.1.0)\n",
            "Requirement already satisfied: six>=1.12.0 in /usr/local/lib/python3.10/dist-packages (from tensorflow) (1.16.0)\n",
            "Requirement already satisfied: termcolor>=1.1.0 in /usr/local/lib/python3.10/dist-packages (from tensorflow) (2.5.0)\n",
            "Requirement already satisfied: typing-extensions>=3.6.6 in /usr/local/lib/python3.10/dist-packages (from tensorflow) (4.12.2)\n",
            "Requirement already satisfied: wrapt>=1.11.0 in /usr/local/lib/python3.10/dist-packages (from tensorflow) (1.16.0)\n",
            "Requirement already satisfied: grpcio<2.0,>=1.24.3 in /usr/local/lib/python3.10/dist-packages (from tensorflow) (1.64.1)\n",
            "Collecting tensorboard<2.19,>=2.18 (from tensorflow)\n",
            "  Downloading tensorboard-2.18.0-py3-none-any.whl.metadata (1.6 kB)\n",
            "Collecting keras>=3.5.0 (from tensorflow)\n",
            "  Downloading keras-3.6.0-py3-none-any.whl.metadata (5.8 kB)\n",
            "Requirement already satisfied: numpy<2.1.0,>=1.26.0 in /usr/local/lib/python3.10/dist-packages (from tensorflow) (1.26.4)\n",
            "Requirement already satisfied: h5py>=3.11.0 in /usr/local/lib/python3.10/dist-packages (from tensorflow) (3.12.1)\n",
            "Requirement already satisfied: ml-dtypes<0.5.0,>=0.4.0 in /usr/local/lib/python3.10/dist-packages (from tensorflow) (0.4.1)\n",
            "Requirement already satisfied: tensorflow-io-gcs-filesystem>=0.23.1 in /usr/local/lib/python3.10/dist-packages (from tensorflow) (0.37.1)\n",
            "Requirement already satisfied: wheel<1.0,>=0.23.0 in /usr/local/lib/python3.10/dist-packages (from astunparse>=1.6.0->tensorflow) (0.44.0)\n",
            "Requirement already satisfied: rich in /usr/local/lib/python3.10/dist-packages (from keras>=3.5.0->tensorflow) (13.9.3)\n",
            "Requirement already satisfied: namex in /usr/local/lib/python3.10/dist-packages (from keras>=3.5.0->tensorflow) (0.0.8)\n",
            "Requirement already satisfied: optree in /usr/local/lib/python3.10/dist-packages (from keras>=3.5.0->tensorflow) (0.13.0)\n",
            "Requirement already satisfied: charset-normalizer<4,>=2 in /usr/local/lib/python3.10/dist-packages (from requests<3,>=2.21.0->tensorflow) (3.4.0)\n",
            "Requirement already satisfied: idna<4,>=2.5 in /usr/local/lib/python3.10/dist-packages (from requests<3,>=2.21.0->tensorflow) (3.10)\n",
            "Requirement already satisfied: urllib3<3,>=1.21.1 in /usr/local/lib/python3.10/dist-packages (from requests<3,>=2.21.0->tensorflow) (2.2.3)\n",
            "Requirement already satisfied: certifi>=2017.4.17 in /usr/local/lib/python3.10/dist-packages (from requests<3,>=2.21.0->tensorflow) (2024.8.30)\n",
            "Requirement already satisfied: markdown>=2.6.8 in /usr/local/lib/python3.10/dist-packages (from tensorboard<2.19,>=2.18->tensorflow) (3.7)\n",
            "Requirement already satisfied: tensorboard-data-server<0.8.0,>=0.7.0 in /usr/local/lib/python3.10/dist-packages (from tensorboard<2.19,>=2.18->tensorflow) (0.7.2)\n",
            "Requirement already satisfied: werkzeug>=1.0.1 in /usr/local/lib/python3.10/dist-packages (from tensorboard<2.19,>=2.18->tensorflow) (3.0.6)\n",
            "Requirement already satisfied: MarkupSafe>=2.1.1 in /usr/local/lib/python3.10/dist-packages (from werkzeug>=1.0.1->tensorboard<2.19,>=2.18->tensorflow) (3.0.2)\n",
            "Requirement already satisfied: markdown-it-py>=2.2.0 in /usr/local/lib/python3.10/dist-packages (from rich->keras>=3.5.0->tensorflow) (3.0.0)\n",
            "Requirement already satisfied: pygments<3.0.0,>=2.13.0 in /usr/local/lib/python3.10/dist-packages (from rich->keras>=3.5.0->tensorflow) (2.18.0)\n",
            "Requirement already satisfied: mdurl~=0.1 in /usr/local/lib/python3.10/dist-packages (from markdown-it-py>=2.2.0->rich->keras>=3.5.0->tensorflow) (0.1.2)\n",
            "Downloading tensorflow-2.18.0-cp310-cp310-manylinux_2_17_x86_64.manylinux2014_x86_64.whl (615.3 MB)\n",
            "\u001b[2K   \u001b[90m━━━━━━━━━━━━━━━━━━━━━━━━━━━━━━━━━━━━━━━━\u001b[0m \u001b[32m615.3/615.3 MB\u001b[0m \u001b[31m1.3 MB/s\u001b[0m eta \u001b[36m0:00:00\u001b[0m\n",
            "\u001b[?25hDownloading keras-3.6.0-py3-none-any.whl (1.2 MB)\n",
            "\u001b[2K   \u001b[90m━━━━━━━━━━━━━━━━━━━━━━━━━━━━━━━━━━━━━━━━\u001b[0m \u001b[32m1.2/1.2 MB\u001b[0m \u001b[31m47.3 MB/s\u001b[0m eta \u001b[36m0:00:00\u001b[0m\n",
            "\u001b[?25hDownloading tensorboard-2.18.0-py3-none-any.whl (5.5 MB)\n",
            "\u001b[2K   \u001b[90m━━━━━━━━━━━━━━━━━━━━━━━━━━━━━━━━━━━━━━━━\u001b[0m \u001b[32m5.5/5.5 MB\u001b[0m \u001b[31m90.8 MB/s\u001b[0m eta \u001b[36m0:00:00\u001b[0m\n",
            "\u001b[?25hInstalling collected packages: tensorboard, keras, tensorflow\n",
            "  Attempting uninstall: tensorboard\n",
            "    Found existing installation: tensorboard 2.17.0\n",
            "    Uninstalling tensorboard-2.17.0:\n",
            "      Successfully uninstalled tensorboard-2.17.0\n",
            "  Attempting uninstall: keras\n",
            "    Found existing installation: keras 3.4.1\n",
            "    Uninstalling keras-3.4.1:\n",
            "      Successfully uninstalled keras-3.4.1\n",
            "  Attempting uninstall: tensorflow\n",
            "    Found existing installation: tensorflow 2.17.0\n",
            "    Uninstalling tensorflow-2.17.0:\n",
            "      Successfully uninstalled tensorflow-2.17.0\n",
            "\u001b[31mERROR: pip's dependency resolver does not currently take into account all the packages that are installed. This behaviour is the source of the following dependency conflicts.\n",
            "tf-keras 2.17.0 requires tensorflow<2.18,>=2.17, but you have tensorflow 2.18.0 which is incompatible.\u001b[0m\u001b[31m\n",
            "\u001b[0mSuccessfully installed keras-3.6.0 tensorboard-2.18.0 tensorflow-2.18.0\n"
          ]
        }
      ]
    },
    {
      "cell_type": "code",
      "source": [
        "import pandas as pd\n",
        "from sklearn.model_selection import train_test_split\n",
        "from sklearn.preprocessing import StandardScaler\n",
        "from tensorflow.keras.models import Sequential\n",
        "from tensorflow.keras.layers import Dense, BatchNormalization\n",
        "from tensorflow.keras.optimizers import Adam\n",
        "from tensorflow.keras.metrics import MeanAbsoluteError, MeanSquaredError\n",
        "\n",
        "from sklearn.metrics import r2_score\n",
        "from sklearn.metrics import mean_squared_error\n",
        "from sklearn.model_selection import train_test_split"
      ],
      "metadata": {
        "id": "_BT0e8Knb0x7"
      },
      "execution_count": null,
      "outputs": []
    },
    {
      "cell_type": "code",
      "source": [
        "import pandas as pd\n",
        "import seaborn as sns\n",
        "import numpy as np\n",
        "import matplotlib.pyplot as plt\n",
        "%matplotlib inline\n",
        "from matplotlib import style\n",
        "from functools import reduce\n",
        "import os\n"
      ],
      "metadata": {
        "id": "vyqHcFMLisbl"
      },
      "execution_count": null,
      "outputs": []
    },
    {
      "cell_type": "markdown",
      "source": [
        "Importing essential libraries for data handling (Pandas), data splitting and scaling (Scikit-Learn), and neural network construction (TensorFlow/Keras).\n",
        "These libraries are well-suited for building and evaluating machine learning models, allowing efficient data manipulation and model training."
      ],
      "metadata": {
        "id": "2Zy0euN-5vnp"
      }
    },
    {
      "cell_type": "code",
      "source": [
        "from google.colab import drive\n",
        "drive.mount('/content/drive')"
      ],
      "metadata": {
        "colab": {
          "base_uri": "https://localhost:8080/"
        },
        "id": "L2mbbACvC05N",
        "outputId": "6acf70b3-d666-41eb-ad20-f5ee4d08c22b"
      },
      "execution_count": null,
      "outputs": [
        {
          "output_type": "stream",
          "name": "stdout",
          "text": [
            "Mounted at /content/drive\n"
          ]
        }
      ]
    },
    {
      "cell_type": "markdown",
      "source": [
        "Loading the dataset and selecting relevant numerical columns that are predictive of the target variable, WRI. Also replacing missing values with 0, preventing potential issues during training. This ensures that only the most relevant features are used which optimizes model's accuracy and computational efficiency. By handling missing values, we prevent errors and improve data quality, which is crucial for reliable predictions."
      ],
      "metadata": {
        "id": "2SMx0B-395my"
      }
    },
    {
      "cell_type": "code",
      "source": [
        "# Loading the dataset\n",
        "file_path = '/content/drive/MyDrive/Research CS-AI/HolyokeHack/Data/world_risk_index.csv'  # Adjust path as necessary\n",
        "world_risk_data = pd.read_csv(file_path)"
      ],
      "metadata": {
        "id": "Mnsq0FoWfZpx"
      },
      "execution_count": null,
      "outputs": []
    },
    {
      "cell_type": "code",
      "source": [
        "numerical_data = world_risk_data[\n",
        "    ['Exposure', 'Vulnerability', 'Susceptibility', 'Lack of Coping Capabilities', ' Lack of Adaptive Capacities']\n",
        "].fillna(0)  # Fill missing values with 0\n",
        "target = world_risk_data['WRI'].fillna(0)  # Handle missing target values if any"
      ],
      "metadata": {
        "id": "zfVn3-lugrbC"
      },
      "execution_count": null,
      "outputs": []
    },
    {
      "cell_type": "markdown",
      "source": [
        "Standardizes the input features to have a mean of 0 and a standard deviation of 1 using StandardScaler.\n",
        "\n",
        "Standardization helps the neural network converge faster and perform better by ensuring that all features contribute equally during training. This is particularly important in neural networks, where features with larger ranges could dominate others."
      ],
      "metadata": {
        "id": "wXG2qIhm_5OF"
      }
    },
    {
      "cell_type": "code",
      "source": [
        "# Data Transformation - Scaliing\n",
        "scaler = StandardScaler()\n",
        "X = scaler.fit_transform(numerical_data)\n",
        "y = target.values"
      ],
      "metadata": {
        "id": "zBbPfw0mhEZ4"
      },
      "execution_count": null,
      "outputs": []
    },
    {
      "cell_type": "markdown",
      "source": [
        "Spliting the dataset into training and testing sets with 80% for training and 20% for testing. This split is crucial for evaluating the model's performance on unseen data, allowing us to assess its generalization ability. The random_state=42 ensures reproducibility of the results."
      ],
      "metadata": {
        "id": "c6udBhwtANbU"
      }
    },
    {
      "cell_type": "code",
      "source": [
        "# Splitting data on training and testing sub datasets\n",
        "X_train, X_test, y_train, y_test = train_test_split(X, y, test_size=0.2, random_state=42)"
      ],
      "metadata": {
        "id": "scIvSxlVhFrS"
      },
      "execution_count": null,
      "outputs": []
    },
    {
      "cell_type": "markdown",
      "source": [
        "Defining a sequential neural network model with several layers:\n",
        "1. Dense Layers: Fully connected layers with ReLU activation to capture nonlinear relationships.\n",
        "2. Batch Normalization Layers: Added to stabilize training and improve convergence.\n",
        "3. Output Layer: A single node without activation to output continuous values for regression.\n",
        "\n",
        "This model architecture is suitable for regression tasks, as it captures complex relationships in the data. Batch normalization improves stability and reduces the risk of NaN values."
      ],
      "metadata": {
        "id": "AHMMVSVGB-w7"
      }
    },
    {
      "cell_type": "code",
      "source": [
        "# Model Initialization\n",
        "model = Sequential([\n",
        "    Dense(32, activation='relu', input_shape=(X_train.shape[1],)),\n",
        "    BatchNormalization(),  # Adding batch normalization for stability\n",
        "    Dense(16, activation='relu'),\n",
        "    BatchNormalization(),\n",
        "    Dense(8, activation='relu'),\n",
        "    Dense(1)  # Single output node for regression\n",
        "])"
      ],
      "metadata": {
        "colab": {
          "base_uri": "https://localhost:8080/"
        },
        "id": "RHqUulINhLw6",
        "outputId": "521af0bf-a680-4334-bb40-f4a06675170c"
      },
      "execution_count": null,
      "outputs": [
        {
          "output_type": "stream",
          "name": "stderr",
          "text": [
            "/usr/local/lib/python3.10/dist-packages/keras/src/layers/core/dense.py:87: UserWarning: Do not pass an `input_shape`/`input_dim` argument to a layer. When using Sequential models, prefer using an `Input(shape)` object as the first layer in the model instead.\n",
            "  super().__init__(activity_regularizer=activity_regularizer, **kwargs)\n"
          ]
        }
      ]
    },
    {
      "cell_type": "markdown",
      "source": [
        "Compiling model - Configuring the model with optimizer Adam with a learning rate of 0.001, which adapts the learning rate during training for faster convergence.The chose loss function is Mean Squared Error (MSE) for regression. The primary metrics to measure accuracy are MAE and MSE.\n",
        "\n",
        "MSE is a common loss function for regression tasks, and Adam is a robust optimizer that adjusts learning rates dynamically. These choices ensure that the model can learn effectively from the dataset."
      ],
      "metadata": {
        "id": "RjA9QpmCEevV"
      }
    },
    {
      "cell_type": "code",
      "source": [
        "# Compiling the model with a lower learning rate\n",
        "optimizer = Adam(learning_rate=0.001)  # Reduced learning rate for stability\n",
        "model.compile(optimizer=optimizer, loss='mse', metrics=[MeanAbsoluteError(), MeanSquaredError()])"
      ],
      "metadata": {
        "id": "y9GYoNNBhM21"
      },
      "execution_count": null,
      "outputs": []
    },
    {
      "cell_type": "markdown",
      "source": [
        "Training the model for 100 epochs with a batch size of 16 and validating it on the test set.\n",
        "Epochs and batch size are tuned to balance training time and convergence speed. The validation on X_test provides feedback on model performance as it helps to prevent overfitting and ensuring the model generalizes well.\n"
      ],
      "metadata": {
        "id": "nmceFBaWFGvX"
      }
    },
    {
      "cell_type": "code",
      "source": [
        "# Traning the model\n",
        "history = model.fit(X_train, y_train, epochs=200, batch_size=16, validation_data=(X_test, y_test))\n",
        "\n",
        "# Evaluating the accuracy and effectivenes of the model\n",
        "test_loss, test_mae, test_mse = model.evaluate(X_test, y_test)\n",
        "y_pred = model.predict(X_test)\n",
        "r2 = r2_score(y_test, y_pred)\n",
        "rmse_rnn = np.sqrt(mean_squared_error(y_test, y_pred))\n",
        "\n",
        "\n",
        "print(\"Test Loss (MSE):\", test_loss)\n",
        "print(\"Mean Absolute Error:\", test_mae)\n",
        "print(\"Mean Squared Error:\", test_mse)\n",
        "print(\"R-squared Score:\", r2)\n",
        "print(\"RMSE:\", rmse_rnn)\n"
      ],
      "metadata": {
        "colab": {
          "base_uri": "https://localhost:8080/"
        },
        "outputId": "28c5c26c-18a0-4b7d-8e44-ee9218707924",
        "id": "u0My8i7Fli5i"
      },
      "execution_count": null,
      "outputs": [
        {
          "output_type": "stream",
          "name": "stdout",
          "text": [
            "Epoch 1/200\n"
          ]
        },
        {
          "output_type": "stream",
          "name": "stderr",
          "text": [
            "/usr/local/lib/python3.10/dist-packages/keras/src/layers/core/dense.py:87: UserWarning: Do not pass an `input_shape`/`input_dim` argument to a layer. When using Sequential models, prefer using an `Input(shape)` object as the first layer in the model instead.\n",
            "  super().__init__(activity_regularizer=activity_regularizer, **kwargs)\n"
          ]
        },
        {
          "output_type": "stream",
          "name": "stdout",
          "text": [
            "\u001b[1m96/96\u001b[0m \u001b[32m━━━━━━━━━━━━━━━━━━━━\u001b[0m\u001b[37m\u001b[0m \u001b[1m8s\u001b[0m 9ms/step - loss: 78.8238 - mean_absolute_error: 7.4324 - mean_squared_error: 78.8238 - val_loss: 61.7400 - val_mean_absolute_error: 6.4338 - val_mean_squared_error: 61.7400\n",
            "Epoch 2/200\n",
            "\u001b[1m96/96\u001b[0m \u001b[32m━━━━━━━━━━━━━━━━━━━━\u001b[0m\u001b[37m\u001b[0m \u001b[1m1s\u001b[0m 4ms/step - loss: 32.2002 - mean_absolute_error: 4.7595 - mean_squared_error: 32.2002 - val_loss: 22.0395 - val_mean_absolute_error: 3.9443 - val_mean_squared_error: 22.0395\n",
            "Epoch 3/200\n",
            "\u001b[1m96/96\u001b[0m \u001b[32m━━━━━━━━━━━━━━━━━━━━\u001b[0m\u001b[37m\u001b[0m \u001b[1m1s\u001b[0m 4ms/step - loss: 15.7004 - mean_absolute_error: 3.2572 - mean_squared_error: 15.7004 - val_loss: 9.1936 - val_mean_absolute_error: 2.1084 - val_mean_squared_error: 9.1936\n",
            "Epoch 4/200\n",
            "\u001b[1m96/96\u001b[0m \u001b[32m━━━━━━━━━━━━━━━━━━━━\u001b[0m\u001b[37m\u001b[0m \u001b[1m0s\u001b[0m 4ms/step - loss: 10.3087 - mean_absolute_error: 2.6323 - mean_squared_error: 10.3087 - val_loss: 5.7184 - val_mean_absolute_error: 1.7183 - val_mean_squared_error: 5.7184\n",
            "Epoch 5/200\n",
            "\u001b[1m96/96\u001b[0m \u001b[32m━━━━━━━━━━━━━━━━━━━━\u001b[0m\u001b[37m\u001b[0m \u001b[1m1s\u001b[0m 4ms/step - loss: 6.6597 - mean_absolute_error: 2.1551 - mean_squared_error: 6.6597 - val_loss: 5.2991 - val_mean_absolute_error: 1.8813 - val_mean_squared_error: 5.2991\n",
            "Epoch 6/200\n",
            "\u001b[1m96/96\u001b[0m \u001b[32m━━━━━━━━━━━━━━━━━━━━\u001b[0m\u001b[37m\u001b[0m \u001b[1m1s\u001b[0m 3ms/step - loss: 5.8331 - mean_absolute_error: 1.9654 - mean_squared_error: 5.8331 - val_loss: 3.1916 - val_mean_absolute_error: 1.3929 - val_mean_squared_error: 3.1916\n",
            "Epoch 7/200\n",
            "\u001b[1m96/96\u001b[0m \u001b[32m━━━━━━━━━━━━━━━━━━━━\u001b[0m\u001b[37m\u001b[0m \u001b[1m0s\u001b[0m 4ms/step - loss: 4.6355 - mean_absolute_error: 1.7019 - mean_squared_error: 4.6355 - val_loss: 2.2782 - val_mean_absolute_error: 1.1193 - val_mean_squared_error: 2.2782\n",
            "Epoch 8/200\n",
            "\u001b[1m96/96\u001b[0m \u001b[32m━━━━━━━━━━━━━━━━━━━━\u001b[0m\u001b[37m\u001b[0m \u001b[1m1s\u001b[0m 4ms/step - loss: 3.5526 - mean_absolute_error: 1.3671 - mean_squared_error: 3.5526 - val_loss: 1.1392 - val_mean_absolute_error: 0.6742 - val_mean_squared_error: 1.1392\n",
            "Epoch 9/200\n",
            "\u001b[1m96/96\u001b[0m \u001b[32m━━━━━━━━━━━━━━━━━━━━\u001b[0m\u001b[37m\u001b[0m \u001b[1m1s\u001b[0m 4ms/step - loss: 2.4664 - mean_absolute_error: 1.1312 - mean_squared_error: 2.4664 - val_loss: 1.3317 - val_mean_absolute_error: 0.7176 - val_mean_squared_error: 1.3317\n",
            "Epoch 10/200\n",
            "\u001b[1m96/96\u001b[0m \u001b[32m━━━━━━━━━━━━━━━━━━━━\u001b[0m\u001b[37m\u001b[0m \u001b[1m0s\u001b[0m 4ms/step - loss: 3.3012 - mean_absolute_error: 1.3649 - mean_squared_error: 3.3012 - val_loss: 0.8752 - val_mean_absolute_error: 0.5008 - val_mean_squared_error: 0.8752\n",
            "Epoch 11/200\n",
            "\u001b[1m96/96\u001b[0m \u001b[32m━━━━━━━━━━━━━━━━━━━━\u001b[0m\u001b[37m\u001b[0m \u001b[1m1s\u001b[0m 5ms/step - loss: 2.1631 - mean_absolute_error: 1.0857 - mean_squared_error: 2.1631 - val_loss: 0.9132 - val_mean_absolute_error: 0.4953 - val_mean_squared_error: 0.9132\n",
            "Epoch 12/200\n",
            "\u001b[1m96/96\u001b[0m \u001b[32m━━━━━━━━━━━━━━━━━━━━\u001b[0m\u001b[37m\u001b[0m \u001b[1m0s\u001b[0m 4ms/step - loss: 1.9406 - mean_absolute_error: 1.0439 - mean_squared_error: 1.9406 - val_loss: 1.0128 - val_mean_absolute_error: 0.5565 - val_mean_squared_error: 1.0128\n",
            "Epoch 13/200\n",
            "\u001b[1m96/96\u001b[0m \u001b[32m━━━━━━━━━━━━━━━━━━━━\u001b[0m\u001b[37m\u001b[0m \u001b[1m1s\u001b[0m 4ms/step - loss: 2.7043 - mean_absolute_error: 1.1471 - mean_squared_error: 2.7043 - val_loss: 0.6417 - val_mean_absolute_error: 0.4333 - val_mean_squared_error: 0.6417\n",
            "Epoch 14/200\n",
            "\u001b[1m96/96\u001b[0m \u001b[32m━━━━━━━━━━━━━━━━━━━━\u001b[0m\u001b[37m\u001b[0m \u001b[1m0s\u001b[0m 3ms/step - loss: 1.9706 - mean_absolute_error: 0.9791 - mean_squared_error: 1.9706 - val_loss: 0.8795 - val_mean_absolute_error: 0.5001 - val_mean_squared_error: 0.8795\n",
            "Epoch 15/200\n",
            "\u001b[1m96/96\u001b[0m \u001b[32m━━━━━━━━━━━━━━━━━━━━\u001b[0m\u001b[37m\u001b[0m \u001b[1m0s\u001b[0m 4ms/step - loss: 2.0814 - mean_absolute_error: 1.0236 - mean_squared_error: 2.0814 - val_loss: 1.0202 - val_mean_absolute_error: 0.5211 - val_mean_squared_error: 1.0202\n",
            "Epoch 16/200\n",
            "\u001b[1m96/96\u001b[0m \u001b[32m━━━━━━━━━━━━━━━━━━━━\u001b[0m\u001b[37m\u001b[0m \u001b[1m0s\u001b[0m 4ms/step - loss: 2.1280 - mean_absolute_error: 1.1338 - mean_squared_error: 2.1280 - val_loss: 0.6221 - val_mean_absolute_error: 0.3970 - val_mean_squared_error: 0.6221\n",
            "Epoch 17/200\n",
            "\u001b[1m96/96\u001b[0m \u001b[32m━━━━━━━━━━━━━━━━━━━━\u001b[0m\u001b[37m\u001b[0m \u001b[1m1s\u001b[0m 14ms/step - loss: 2.0341 - mean_absolute_error: 0.9904 - mean_squared_error: 2.0341 - val_loss: 0.6761 - val_mean_absolute_error: 0.4100 - val_mean_squared_error: 0.6761\n",
            "Epoch 18/200\n",
            "\u001b[1m96/96\u001b[0m \u001b[32m━━━━━━━━━━━━━━━━━━━━\u001b[0m\u001b[37m\u001b[0m \u001b[1m1s\u001b[0m 4ms/step - loss: 1.7284 - mean_absolute_error: 0.9619 - mean_squared_error: 1.7284 - val_loss: 0.7946 - val_mean_absolute_error: 0.5280 - val_mean_squared_error: 0.7946\n",
            "Epoch 19/200\n",
            "\u001b[1m96/96\u001b[0m \u001b[32m━━━━━━━━━━━━━━━━━━━━\u001b[0m\u001b[37m\u001b[0m \u001b[1m1s\u001b[0m 5ms/step - loss: 1.9233 - mean_absolute_error: 0.9926 - mean_squared_error: 1.9233 - val_loss: 0.6652 - val_mean_absolute_error: 0.4485 - val_mean_squared_error: 0.6652\n",
            "Epoch 20/200\n",
            "\u001b[1m96/96\u001b[0m \u001b[32m━━━━━━━━━━━━━━━━━━━━\u001b[0m\u001b[37m\u001b[0m \u001b[1m0s\u001b[0m 5ms/step - loss: 1.6337 - mean_absolute_error: 0.9595 - mean_squared_error: 1.6337 - val_loss: 0.9067 - val_mean_absolute_error: 0.5525 - val_mean_squared_error: 0.9067\n",
            "Epoch 21/200\n",
            "\u001b[1m96/96\u001b[0m \u001b[32m━━━━━━━━━━━━━━━━━━━━\u001b[0m\u001b[37m\u001b[0m \u001b[1m1s\u001b[0m 5ms/step - loss: 1.4531 - mean_absolute_error: 0.8906 - mean_squared_error: 1.4531 - val_loss: 0.5536 - val_mean_absolute_error: 0.4365 - val_mean_squared_error: 0.5536\n",
            "Epoch 22/200\n",
            "\u001b[1m96/96\u001b[0m \u001b[32m━━━━━━━━━━━━━━━━━━━━\u001b[0m\u001b[37m\u001b[0m \u001b[1m1s\u001b[0m 5ms/step - loss: 1.9543 - mean_absolute_error: 0.9876 - mean_squared_error: 1.9543 - val_loss: 0.6916 - val_mean_absolute_error: 0.5443 - val_mean_squared_error: 0.6916\n",
            "Epoch 23/200\n",
            "\u001b[1m96/96\u001b[0m \u001b[32m━━━━━━━━━━━━━━━━━━━━\u001b[0m\u001b[37m\u001b[0m \u001b[1m1s\u001b[0m 5ms/step - loss: 2.1790 - mean_absolute_error: 1.0130 - mean_squared_error: 2.1790 - val_loss: 0.5063 - val_mean_absolute_error: 0.4075 - val_mean_squared_error: 0.5063\n",
            "Epoch 24/200\n",
            "\u001b[1m96/96\u001b[0m \u001b[32m━━━━━━━━━━━━━━━━━━━━\u001b[0m\u001b[37m\u001b[0m \u001b[1m1s\u001b[0m 7ms/step - loss: 1.8495 - mean_absolute_error: 0.9807 - mean_squared_error: 1.8495 - val_loss: 0.5244 - val_mean_absolute_error: 0.4326 - val_mean_squared_error: 0.5244\n",
            "Epoch 25/200\n",
            "\u001b[1m96/96\u001b[0m \u001b[32m━━━━━━━━━━━━━━━━━━━━\u001b[0m\u001b[37m\u001b[0m \u001b[1m1s\u001b[0m 6ms/step - loss: 1.8853 - mean_absolute_error: 1.0493 - mean_squared_error: 1.8853 - val_loss: 1.1757 - val_mean_absolute_error: 0.5738 - val_mean_squared_error: 1.1757\n",
            "Epoch 26/200\n",
            "\u001b[1m96/96\u001b[0m \u001b[32m━━━━━━━━━━━━━━━━━━━━\u001b[0m\u001b[37m\u001b[0m \u001b[1m1s\u001b[0m 5ms/step - loss: 2.0599 - mean_absolute_error: 1.0191 - mean_squared_error: 2.0599 - val_loss: 0.6273 - val_mean_absolute_error: 0.4411 - val_mean_squared_error: 0.6273\n",
            "Epoch 27/200\n",
            "\u001b[1m96/96\u001b[0m \u001b[32m━━━━━━━━━━━━━━━━━━━━\u001b[0m\u001b[37m\u001b[0m \u001b[1m1s\u001b[0m 7ms/step - loss: 1.6522 - mean_absolute_error: 0.9800 - mean_squared_error: 1.6522 - val_loss: 0.6485 - val_mean_absolute_error: 0.4347 - val_mean_squared_error: 0.6485\n",
            "Epoch 28/200\n",
            "\u001b[1m96/96\u001b[0m \u001b[32m━━━━━━━━━━━━━━━━━━━━\u001b[0m\u001b[37m\u001b[0m \u001b[1m1s\u001b[0m 4ms/step - loss: 1.8566 - mean_absolute_error: 0.9532 - mean_squared_error: 1.8566 - val_loss: 0.5008 - val_mean_absolute_error: 0.3872 - val_mean_squared_error: 0.5008\n",
            "Epoch 29/200\n",
            "\u001b[1m96/96\u001b[0m \u001b[32m━━━━━━━━━━━━━━━━━━━━\u001b[0m\u001b[37m\u001b[0m \u001b[1m1s\u001b[0m 4ms/step - loss: 1.5371 - mean_absolute_error: 0.8451 - mean_squared_error: 1.5371 - val_loss: 0.5145 - val_mean_absolute_error: 0.3510 - val_mean_squared_error: 0.5145\n",
            "Epoch 30/200\n",
            "\u001b[1m96/96\u001b[0m \u001b[32m━━━━━━━━━━━━━━━━━━━━\u001b[0m\u001b[37m\u001b[0m \u001b[1m1s\u001b[0m 4ms/step - loss: 1.6613 - mean_absolute_error: 0.9028 - mean_squared_error: 1.6613 - val_loss: 0.5307 - val_mean_absolute_error: 0.4521 - val_mean_squared_error: 0.5307\n",
            "Epoch 31/200\n",
            "\u001b[1m96/96\u001b[0m \u001b[32m━━━━━━━━━━━━━━━━━━━━\u001b[0m\u001b[37m\u001b[0m \u001b[1m0s\u001b[0m 4ms/step - loss: 1.5690 - mean_absolute_error: 0.9272 - mean_squared_error: 1.5690 - val_loss: 0.7350 - val_mean_absolute_error: 0.4554 - val_mean_squared_error: 0.7350\n",
            "Epoch 32/200\n",
            "\u001b[1m96/96\u001b[0m \u001b[32m━━━━━━━━━━━━━━━━━━━━\u001b[0m\u001b[37m\u001b[0m \u001b[1m1s\u001b[0m 4ms/step - loss: 1.6186 - mean_absolute_error: 0.9379 - mean_squared_error: 1.6186 - val_loss: 0.7565 - val_mean_absolute_error: 0.6282 - val_mean_squared_error: 0.7565\n",
            "Epoch 33/200\n",
            "\u001b[1m96/96\u001b[0m \u001b[32m━━━━━━━━━━━━━━━━━━━━\u001b[0m\u001b[37m\u001b[0m \u001b[1m0s\u001b[0m 4ms/step - loss: 1.7005 - mean_absolute_error: 0.9397 - mean_squared_error: 1.7005 - val_loss: 0.3696 - val_mean_absolute_error: 0.3665 - val_mean_squared_error: 0.3696\n",
            "Epoch 34/200\n",
            "\u001b[1m96/96\u001b[0m \u001b[32m━━━━━━━━━━━━━━━━━━━━\u001b[0m\u001b[37m\u001b[0m \u001b[1m1s\u001b[0m 4ms/step - loss: 1.3179 - mean_absolute_error: 0.8798 - mean_squared_error: 1.3179 - val_loss: 1.3964 - val_mean_absolute_error: 0.8772 - val_mean_squared_error: 1.3964\n",
            "Epoch 35/200\n",
            "\u001b[1m96/96\u001b[0m \u001b[32m━━━━━━━━━━━━━━━━━━━━\u001b[0m\u001b[37m\u001b[0m \u001b[1m0s\u001b[0m 4ms/step - loss: 1.5323 - mean_absolute_error: 0.9183 - mean_squared_error: 1.5323 - val_loss: 0.5280 - val_mean_absolute_error: 0.5314 - val_mean_squared_error: 0.5280\n",
            "Epoch 36/200\n",
            "\u001b[1m96/96\u001b[0m \u001b[32m━━━━━━━━━━━━━━━━━━━━\u001b[0m\u001b[37m\u001b[0m \u001b[1m0s\u001b[0m 4ms/step - loss: 1.0785 - mean_absolute_error: 0.7710 - mean_squared_error: 1.0785 - val_loss: 0.4629 - val_mean_absolute_error: 0.4323 - val_mean_squared_error: 0.4629\n",
            "Epoch 37/200\n",
            "\u001b[1m96/96\u001b[0m \u001b[32m━━━━━━━━━━━━━━━━━━━━\u001b[0m\u001b[37m\u001b[0m \u001b[1m0s\u001b[0m 4ms/step - loss: 1.3946 - mean_absolute_error: 0.8676 - mean_squared_error: 1.3946 - val_loss: 0.6093 - val_mean_absolute_error: 0.4513 - val_mean_squared_error: 0.6093\n",
            "Epoch 38/200\n",
            "\u001b[1m96/96\u001b[0m \u001b[32m━━━━━━━━━━━━━━━━━━━━\u001b[0m\u001b[37m\u001b[0m \u001b[1m0s\u001b[0m 5ms/step - loss: 1.2381 - mean_absolute_error: 0.8383 - mean_squared_error: 1.2381 - val_loss: 0.4024 - val_mean_absolute_error: 0.4154 - val_mean_squared_error: 0.4024\n",
            "Epoch 39/200\n",
            "\u001b[1m96/96\u001b[0m \u001b[32m━━━━━━━━━━━━━━━━━━━━\u001b[0m\u001b[37m\u001b[0m \u001b[1m0s\u001b[0m 3ms/step - loss: 1.4409 - mean_absolute_error: 0.8916 - mean_squared_error: 1.4409 - val_loss: 0.5626 - val_mean_absolute_error: 0.4393 - val_mean_squared_error: 0.5626\n",
            "Epoch 40/200\n",
            "\u001b[1m96/96\u001b[0m \u001b[32m━━━━━━━━━━━━━━━━━━━━\u001b[0m\u001b[37m\u001b[0m \u001b[1m1s\u001b[0m 4ms/step - loss: 1.1676 - mean_absolute_error: 0.8045 - mean_squared_error: 1.1676 - val_loss: 0.4616 - val_mean_absolute_error: 0.3628 - val_mean_squared_error: 0.4616\n",
            "Epoch 41/200\n",
            "\u001b[1m96/96\u001b[0m \u001b[32m━━━━━━━━━━━━━━━━━━━━\u001b[0m\u001b[37m\u001b[0m \u001b[1m0s\u001b[0m 3ms/step - loss: 1.3537 - mean_absolute_error: 0.8266 - mean_squared_error: 1.3537 - val_loss: 0.5048 - val_mean_absolute_error: 0.3538 - val_mean_squared_error: 0.5048\n",
            "Epoch 42/200\n",
            "\u001b[1m96/96\u001b[0m \u001b[32m━━━━━━━━━━━━━━━━━━━━\u001b[0m\u001b[37m\u001b[0m \u001b[1m0s\u001b[0m 4ms/step - loss: 1.4004 - mean_absolute_error: 0.9020 - mean_squared_error: 1.4004 - val_loss: 0.4510 - val_mean_absolute_error: 0.3831 - val_mean_squared_error: 0.4510\n",
            "Epoch 43/200\n",
            "\u001b[1m96/96\u001b[0m \u001b[32m━━━━━━━━━━━━━━━━━━━━\u001b[0m\u001b[37m\u001b[0m \u001b[1m1s\u001b[0m 4ms/step - loss: 1.0930 - mean_absolute_error: 0.8044 - mean_squared_error: 1.0930 - val_loss: 0.3382 - val_mean_absolute_error: 0.3482 - val_mean_squared_error: 0.3382\n",
            "Epoch 44/200\n",
            "\u001b[1m96/96\u001b[0m \u001b[32m━━━━━━━━━━━━━━━━━━━━\u001b[0m\u001b[37m\u001b[0m \u001b[1m0s\u001b[0m 5ms/step - loss: 1.1786 - mean_absolute_error: 0.7615 - mean_squared_error: 1.1786 - val_loss: 0.3237 - val_mean_absolute_error: 0.3648 - val_mean_squared_error: 0.3237\n",
            "Epoch 45/200\n",
            "\u001b[1m96/96\u001b[0m \u001b[32m━━━━━━━━━━━━━━━━━━━━\u001b[0m\u001b[37m\u001b[0m \u001b[1m1s\u001b[0m 4ms/step - loss: 1.3897 - mean_absolute_error: 0.8856 - mean_squared_error: 1.3897 - val_loss: 0.6200 - val_mean_absolute_error: 0.6052 - val_mean_squared_error: 0.6200\n",
            "Epoch 46/200\n",
            "\u001b[1m96/96\u001b[0m \u001b[32m━━━━━━━━━━━━━━━━━━━━\u001b[0m\u001b[37m\u001b[0m \u001b[1m0s\u001b[0m 4ms/step - loss: 1.4132 - mean_absolute_error: 0.8482 - mean_squared_error: 1.4132 - val_loss: 0.3645 - val_mean_absolute_error: 0.3526 - val_mean_squared_error: 0.3645\n",
            "Epoch 47/200\n",
            "\u001b[1m96/96\u001b[0m \u001b[32m━━━━━━━━━━━━━━━━━━━━\u001b[0m\u001b[37m\u001b[0m \u001b[1m0s\u001b[0m 5ms/step - loss: 0.9955 - mean_absolute_error: 0.7493 - mean_squared_error: 0.9955 - val_loss: 0.7663 - val_mean_absolute_error: 0.6532 - val_mean_squared_error: 0.7663\n",
            "Epoch 48/200\n",
            "\u001b[1m96/96\u001b[0m \u001b[32m━━━━━━━━━━━━━━━━━━━━\u001b[0m\u001b[37m\u001b[0m \u001b[1m1s\u001b[0m 5ms/step - loss: 1.2649 - mean_absolute_error: 0.8650 - mean_squared_error: 1.2649 - val_loss: 0.4350 - val_mean_absolute_error: 0.4630 - val_mean_squared_error: 0.4350\n",
            "Epoch 49/200\n",
            "\u001b[1m96/96\u001b[0m \u001b[32m━━━━━━━━━━━━━━━━━━━━\u001b[0m\u001b[37m\u001b[0m \u001b[1m1s\u001b[0m 5ms/step - loss: 1.3115 - mean_absolute_error: 0.7691 - mean_squared_error: 1.3115 - val_loss: 0.3914 - val_mean_absolute_error: 0.3902 - val_mean_squared_error: 0.3914\n",
            "Epoch 50/200\n",
            "\u001b[1m96/96\u001b[0m \u001b[32m━━━━━━━━━━━━━━━━━━━━\u001b[0m\u001b[37m\u001b[0m \u001b[1m1s\u001b[0m 5ms/step - loss: 1.6256 - mean_absolute_error: 0.9035 - mean_squared_error: 1.6256 - val_loss: 0.5007 - val_mean_absolute_error: 0.4410 - val_mean_squared_error: 0.5007\n",
            "Epoch 51/200\n",
            "\u001b[1m96/96\u001b[0m \u001b[32m━━━━━━━━━━━━━━━━━━━━\u001b[0m\u001b[37m\u001b[0m \u001b[1m1s\u001b[0m 5ms/step - loss: 0.9532 - mean_absolute_error: 0.7202 - mean_squared_error: 0.9532 - val_loss: 0.8213 - val_mean_absolute_error: 0.6543 - val_mean_squared_error: 0.8213\n",
            "Epoch 52/200\n",
            "\u001b[1m96/96\u001b[0m \u001b[32m━━━━━━━━━━━━━━━━━━━━\u001b[0m\u001b[37m\u001b[0m \u001b[1m1s\u001b[0m 5ms/step - loss: 1.4762 - mean_absolute_error: 0.8706 - mean_squared_error: 1.4762 - val_loss: 0.3840 - val_mean_absolute_error: 0.3157 - val_mean_squared_error: 0.3840\n",
            "Epoch 53/200\n",
            "\u001b[1m96/96\u001b[0m \u001b[32m━━━━━━━━━━━━━━━━━━━━\u001b[0m\u001b[37m\u001b[0m \u001b[1m1s\u001b[0m 6ms/step - loss: 0.8847 - mean_absolute_error: 0.7154 - mean_squared_error: 0.8847 - val_loss: 0.3780 - val_mean_absolute_error: 0.3571 - val_mean_squared_error: 0.3780\n",
            "Epoch 54/200\n",
            "\u001b[1m96/96\u001b[0m \u001b[32m━━━━━━━━━━━━━━━━━━━━\u001b[0m\u001b[37m\u001b[0m \u001b[1m1s\u001b[0m 6ms/step - loss: 0.9869 - mean_absolute_error: 0.7593 - mean_squared_error: 0.9869 - val_loss: 0.8693 - val_mean_absolute_error: 0.4780 - val_mean_squared_error: 0.8693\n",
            "Epoch 55/200\n",
            "\u001b[1m96/96\u001b[0m \u001b[32m━━━━━━━━━━━━━━━━━━━━\u001b[0m\u001b[37m\u001b[0m \u001b[1m1s\u001b[0m 4ms/step - loss: 1.4578 - mean_absolute_error: 0.8591 - mean_squared_error: 1.4578 - val_loss: 0.7128 - val_mean_absolute_error: 0.4562 - val_mean_squared_error: 0.7128\n",
            "Epoch 56/200\n",
            "\u001b[1m96/96\u001b[0m \u001b[32m━━━━━━━━━━━━━━━━━━━━\u001b[0m\u001b[37m\u001b[0m \u001b[1m1s\u001b[0m 3ms/step - loss: 1.0334 - mean_absolute_error: 0.7517 - mean_squared_error: 1.0334 - val_loss: 0.5579 - val_mean_absolute_error: 0.3578 - val_mean_squared_error: 0.5579\n",
            "Epoch 57/200\n",
            "\u001b[1m96/96\u001b[0m \u001b[32m━━━━━━━━━━━━━━━━━━━━\u001b[0m\u001b[37m\u001b[0m \u001b[1m0s\u001b[0m 4ms/step - loss: 0.9874 - mean_absolute_error: 0.7405 - mean_squared_error: 0.9874 - val_loss: 0.5705 - val_mean_absolute_error: 0.4142 - val_mean_squared_error: 0.5705\n",
            "Epoch 58/200\n",
            "\u001b[1m96/96\u001b[0m \u001b[32m━━━━━━━━━━━━━━━━━━━━\u001b[0m\u001b[37m\u001b[0m \u001b[1m1s\u001b[0m 4ms/step - loss: 1.0273 - mean_absolute_error: 0.7525 - mean_squared_error: 1.0273 - val_loss: 0.4915 - val_mean_absolute_error: 0.4423 - val_mean_squared_error: 0.4915\n",
            "Epoch 59/200\n",
            "\u001b[1m96/96\u001b[0m \u001b[32m━━━━━━━━━━━━━━━━━━━━\u001b[0m\u001b[37m\u001b[0m \u001b[1m0s\u001b[0m 4ms/step - loss: 0.8565 - mean_absolute_error: 0.6894 - mean_squared_error: 0.8565 - val_loss: 0.5113 - val_mean_absolute_error: 0.4111 - val_mean_squared_error: 0.5113\n",
            "Epoch 60/200\n",
            "\u001b[1m96/96\u001b[0m \u001b[32m━━━━━━━━━━━━━━━━━━━━\u001b[0m\u001b[37m\u001b[0m \u001b[1m0s\u001b[0m 4ms/step - loss: 1.0947 - mean_absolute_error: 0.7712 - mean_squared_error: 1.0947 - val_loss: 0.4567 - val_mean_absolute_error: 0.3364 - val_mean_squared_error: 0.4567\n",
            "Epoch 61/200\n",
            "\u001b[1m96/96\u001b[0m \u001b[32m━━━━━━━━━━━━━━━━━━━━\u001b[0m\u001b[37m\u001b[0m \u001b[1m0s\u001b[0m 4ms/step - loss: 0.7916 - mean_absolute_error: 0.6323 - mean_squared_error: 0.7916 - val_loss: 0.4100 - val_mean_absolute_error: 0.3649 - val_mean_squared_error: 0.4100\n",
            "Epoch 62/200\n",
            "\u001b[1m96/96\u001b[0m \u001b[32m━━━━━━━━━━━━━━━━━━━━\u001b[0m\u001b[37m\u001b[0m \u001b[1m1s\u001b[0m 4ms/step - loss: 0.8911 - mean_absolute_error: 0.6981 - mean_squared_error: 0.8911 - val_loss: 0.4880 - val_mean_absolute_error: 0.3964 - val_mean_squared_error: 0.4880\n",
            "Epoch 63/200\n",
            "\u001b[1m96/96\u001b[0m \u001b[32m━━━━━━━━━━━━━━━━━━━━\u001b[0m\u001b[37m\u001b[0m \u001b[1m0s\u001b[0m 4ms/step - loss: 0.9713 - mean_absolute_error: 0.7349 - mean_squared_error: 0.9713 - val_loss: 0.7124 - val_mean_absolute_error: 0.4911 - val_mean_squared_error: 0.7124\n",
            "Epoch 64/200\n",
            "\u001b[1m96/96\u001b[0m \u001b[32m━━━━━━━━━━━━━━━━━━━━\u001b[0m\u001b[37m\u001b[0m \u001b[1m1s\u001b[0m 4ms/step - loss: 1.1225 - mean_absolute_error: 0.7617 - mean_squared_error: 1.1225 - val_loss: 0.4150 - val_mean_absolute_error: 0.4320 - val_mean_squared_error: 0.4150\n",
            "Epoch 65/200\n",
            "\u001b[1m96/96\u001b[0m \u001b[32m━━━━━━━━━━━━━━━━━━━━\u001b[0m\u001b[37m\u001b[0m \u001b[1m0s\u001b[0m 4ms/step - loss: 0.9321 - mean_absolute_error: 0.7014 - mean_squared_error: 0.9321 - val_loss: 0.4200 - val_mean_absolute_error: 0.4016 - val_mean_squared_error: 0.4200\n",
            "Epoch 66/200\n",
            "\u001b[1m96/96\u001b[0m \u001b[32m━━━━━━━━━━━━━━━━━━━━\u001b[0m\u001b[37m\u001b[0m \u001b[1m1s\u001b[0m 4ms/step - loss: 0.7340 - mean_absolute_error: 0.6459 - mean_squared_error: 0.7340 - val_loss: 0.4732 - val_mean_absolute_error: 0.3358 - val_mean_squared_error: 0.4732\n",
            "Epoch 67/200\n",
            "\u001b[1m96/96\u001b[0m \u001b[32m━━━━━━━━━━━━━━━━━━━━\u001b[0m\u001b[37m\u001b[0m \u001b[1m1s\u001b[0m 4ms/step - loss: 0.7753 - mean_absolute_error: 0.6866 - mean_squared_error: 0.7753 - val_loss: 0.4944 - val_mean_absolute_error: 0.4611 - val_mean_squared_error: 0.4944\n",
            "Epoch 68/200\n",
            "\u001b[1m96/96\u001b[0m \u001b[32m━━━━━━━━━━━━━━━━━━━━\u001b[0m\u001b[37m\u001b[0m \u001b[1m1s\u001b[0m 5ms/step - loss: 1.3794 - mean_absolute_error: 0.7969 - mean_squared_error: 1.3794 - val_loss: 1.0203 - val_mean_absolute_error: 0.4955 - val_mean_squared_error: 1.0203\n",
            "Epoch 69/200\n",
            "\u001b[1m96/96\u001b[0m \u001b[32m━━━━━━━━━━━━━━━━━━━━\u001b[0m\u001b[37m\u001b[0m \u001b[1m0s\u001b[0m 4ms/step - loss: 0.7493 - mean_absolute_error: 0.6433 - mean_squared_error: 0.7493 - val_loss: 0.6215 - val_mean_absolute_error: 0.4366 - val_mean_squared_error: 0.6215\n",
            "Epoch 70/200\n",
            "\u001b[1m96/96\u001b[0m \u001b[32m━━━━━━━━━━━━━━━━━━━━\u001b[0m\u001b[37m\u001b[0m \u001b[1m1s\u001b[0m 5ms/step - loss: 0.6826 - mean_absolute_error: 0.6227 - mean_squared_error: 0.6826 - val_loss: 0.3927 - val_mean_absolute_error: 0.3530 - val_mean_squared_error: 0.3927\n",
            "Epoch 71/200\n",
            "\u001b[1m96/96\u001b[0m \u001b[32m━━━━━━━━━━━━━━━━━━━━\u001b[0m\u001b[37m\u001b[0m \u001b[1m0s\u001b[0m 4ms/step - loss: 0.8409 - mean_absolute_error: 0.6306 - mean_squared_error: 0.8409 - val_loss: 0.5685 - val_mean_absolute_error: 0.4329 - val_mean_squared_error: 0.5685\n",
            "Epoch 72/200\n",
            "\u001b[1m96/96\u001b[0m \u001b[32m━━━━━━━━━━━━━━━━━━━━\u001b[0m\u001b[37m\u001b[0m \u001b[1m0s\u001b[0m 4ms/step - loss: 0.6953 - mean_absolute_error: 0.6074 - mean_squared_error: 0.6953 - val_loss: 0.8648 - val_mean_absolute_error: 0.6262 - val_mean_squared_error: 0.8648\n",
            "Epoch 73/200\n",
            "\u001b[1m96/96\u001b[0m \u001b[32m━━━━━━━━━━━━━━━━━━━━\u001b[0m\u001b[37m\u001b[0m \u001b[1m1s\u001b[0m 5ms/step - loss: 0.8798 - mean_absolute_error: 0.6782 - mean_squared_error: 0.8798 - val_loss: 0.3934 - val_mean_absolute_error: 0.3531 - val_mean_squared_error: 0.3934\n",
            "Epoch 74/200\n",
            "\u001b[1m96/96\u001b[0m \u001b[32m━━━━━━━━━━━━━━━━━━━━\u001b[0m\u001b[37m\u001b[0m \u001b[1m1s\u001b[0m 6ms/step - loss: 0.9691 - mean_absolute_error: 0.6960 - mean_squared_error: 0.9691 - val_loss: 0.3845 - val_mean_absolute_error: 0.3915 - val_mean_squared_error: 0.3845\n",
            "Epoch 75/200\n",
            "\u001b[1m96/96\u001b[0m \u001b[32m━━━━━━━━━━━━━━━━━━━━\u001b[0m\u001b[37m\u001b[0m \u001b[1m1s\u001b[0m 5ms/step - loss: 0.9506 - mean_absolute_error: 0.7022 - mean_squared_error: 0.9506 - val_loss: 0.3569 - val_mean_absolute_error: 0.3225 - val_mean_squared_error: 0.3569\n",
            "Epoch 76/200\n",
            "\u001b[1m96/96\u001b[0m \u001b[32m━━━━━━━━━━━━━━━━━━━━\u001b[0m\u001b[37m\u001b[0m \u001b[1m1s\u001b[0m 5ms/step - loss: 0.9917 - mean_absolute_error: 0.7149 - mean_squared_error: 0.9917 - val_loss: 0.4894 - val_mean_absolute_error: 0.3477 - val_mean_squared_error: 0.4894\n",
            "Epoch 77/200\n",
            "\u001b[1m96/96\u001b[0m \u001b[32m━━━━━━━━━━━━━━━━━━━━\u001b[0m\u001b[37m\u001b[0m \u001b[1m0s\u001b[0m 5ms/step - loss: 0.7863 - mean_absolute_error: 0.6432 - mean_squared_error: 0.7863 - val_loss: 0.5433 - val_mean_absolute_error: 0.4364 - val_mean_squared_error: 0.5433\n",
            "Epoch 78/200\n",
            "\u001b[1m96/96\u001b[0m \u001b[32m━━━━━━━━━━━━━━━━━━━━\u001b[0m\u001b[37m\u001b[0m \u001b[1m1s\u001b[0m 5ms/step - loss: 0.9043 - mean_absolute_error: 0.6960 - mean_squared_error: 0.9043 - val_loss: 0.3540 - val_mean_absolute_error: 0.3142 - val_mean_squared_error: 0.3540\n",
            "Epoch 79/200\n",
            "\u001b[1m96/96\u001b[0m \u001b[32m━━━━━━━━━━━━━━━━━━━━\u001b[0m\u001b[37m\u001b[0m \u001b[1m1s\u001b[0m 5ms/step - loss: 0.8185 - mean_absolute_error: 0.6623 - mean_squared_error: 0.8185 - val_loss: 0.2916 - val_mean_absolute_error: 0.3106 - val_mean_squared_error: 0.2916\n",
            "Epoch 80/200\n",
            "\u001b[1m96/96\u001b[0m \u001b[32m━━━━━━━━━━━━━━━━━━━━\u001b[0m\u001b[37m\u001b[0m \u001b[1m1s\u001b[0m 6ms/step - loss: 0.7729 - mean_absolute_error: 0.6580 - mean_squared_error: 0.7729 - val_loss: 0.4908 - val_mean_absolute_error: 0.4623 - val_mean_squared_error: 0.4908\n",
            "Epoch 81/200\n",
            "\u001b[1m96/96\u001b[0m \u001b[32m━━━━━━━━━━━━━━━━━━━━\u001b[0m\u001b[37m\u001b[0m \u001b[1m1s\u001b[0m 4ms/step - loss: 1.1326 - mean_absolute_error: 0.7591 - mean_squared_error: 1.1326 - val_loss: 0.8438 - val_mean_absolute_error: 0.5460 - val_mean_squared_error: 0.8438\n",
            "Epoch 82/200\n",
            "\u001b[1m96/96\u001b[0m \u001b[32m━━━━━━━━━━━━━━━━━━━━\u001b[0m\u001b[37m\u001b[0m \u001b[1m0s\u001b[0m 4ms/step - loss: 0.6436 - mean_absolute_error: 0.5817 - mean_squared_error: 0.6436 - val_loss: 0.7015 - val_mean_absolute_error: 0.3587 - val_mean_squared_error: 0.7015\n",
            "Epoch 83/200\n",
            "\u001b[1m96/96\u001b[0m \u001b[32m━━━━━━━━━━━━━━━━━━━━\u001b[0m\u001b[37m\u001b[0m \u001b[1m0s\u001b[0m 5ms/step - loss: 0.7812 - mean_absolute_error: 0.6291 - mean_squared_error: 0.7812 - val_loss: 0.4417 - val_mean_absolute_error: 0.4495 - val_mean_squared_error: 0.4417\n",
            "Epoch 84/200\n",
            "\u001b[1m96/96\u001b[0m \u001b[32m━━━━━━━━━━━━━━━━━━━━\u001b[0m\u001b[37m\u001b[0m \u001b[1m1s\u001b[0m 5ms/step - loss: 0.5766 - mean_absolute_error: 0.5717 - mean_squared_error: 0.5766 - val_loss: 0.6731 - val_mean_absolute_error: 0.3874 - val_mean_squared_error: 0.6731\n",
            "Epoch 85/200\n",
            "\u001b[1m96/96\u001b[0m \u001b[32m━━━━━━━━━━━━━━━━━━━━\u001b[0m\u001b[37m\u001b[0m \u001b[1m0s\u001b[0m 4ms/step - loss: 0.6733 - mean_absolute_error: 0.6209 - mean_squared_error: 0.6733 - val_loss: 0.7365 - val_mean_absolute_error: 0.4178 - val_mean_squared_error: 0.7365\n",
            "Epoch 86/200\n",
            "\u001b[1m96/96\u001b[0m \u001b[32m━━━━━━━━━━━━━━━━━━━━\u001b[0m\u001b[37m\u001b[0m \u001b[1m0s\u001b[0m 5ms/step - loss: 0.8474 - mean_absolute_error: 0.6530 - mean_squared_error: 0.8474 - val_loss: 0.4085 - val_mean_absolute_error: 0.3854 - val_mean_squared_error: 0.4085\n",
            "Epoch 87/200\n",
            "\u001b[1m96/96\u001b[0m \u001b[32m━━━━━━━━━━━━━━━━━━━━\u001b[0m\u001b[37m\u001b[0m \u001b[1m0s\u001b[0m 3ms/step - loss: 0.7566 - mean_absolute_error: 0.6476 - mean_squared_error: 0.7566 - val_loss: 0.3683 - val_mean_absolute_error: 0.2901 - val_mean_squared_error: 0.3683\n",
            "Epoch 88/200\n",
            "\u001b[1m96/96\u001b[0m \u001b[32m━━━━━━━━━━━━━━━━━━━━\u001b[0m\u001b[37m\u001b[0m \u001b[1m0s\u001b[0m 4ms/step - loss: 0.6416 - mean_absolute_error: 0.5951 - mean_squared_error: 0.6416 - val_loss: 0.5825 - val_mean_absolute_error: 0.3832 - val_mean_squared_error: 0.5825\n",
            "Epoch 89/200\n",
            "\u001b[1m96/96\u001b[0m \u001b[32m━━━━━━━━━━━━━━━━━━━━\u001b[0m\u001b[37m\u001b[0m \u001b[1m1s\u001b[0m 3ms/step - loss: 0.6864 - mean_absolute_error: 0.6076 - mean_squared_error: 0.6864 - val_loss: 0.4692 - val_mean_absolute_error: 0.3980 - val_mean_squared_error: 0.4692\n",
            "Epoch 90/200\n",
            "\u001b[1m96/96\u001b[0m \u001b[32m━━━━━━━━━━━━━━━━━━━━\u001b[0m\u001b[37m\u001b[0m \u001b[1m1s\u001b[0m 4ms/step - loss: 0.6084 - mean_absolute_error: 0.5613 - mean_squared_error: 0.6084 - val_loss: 0.6034 - val_mean_absolute_error: 0.3184 - val_mean_squared_error: 0.6034\n",
            "Epoch 91/200\n",
            "\u001b[1m96/96\u001b[0m \u001b[32m━━━━━━━━━━━━━━━━━━━━\u001b[0m\u001b[37m\u001b[0m \u001b[1m0s\u001b[0m 4ms/step - loss: 0.8147 - mean_absolute_error: 0.6848 - mean_squared_error: 0.8147 - val_loss: 0.4827 - val_mean_absolute_error: 0.4431 - val_mean_squared_error: 0.4827\n",
            "Epoch 92/200\n",
            "\u001b[1m96/96\u001b[0m \u001b[32m━━━━━━━━━━━━━━━━━━━━\u001b[0m\u001b[37m\u001b[0m \u001b[1m0s\u001b[0m 4ms/step - loss: 0.7983 - mean_absolute_error: 0.6738 - mean_squared_error: 0.7983 - val_loss: 0.4256 - val_mean_absolute_error: 0.3304 - val_mean_squared_error: 0.4256\n",
            "Epoch 93/200\n",
            "\u001b[1m96/96\u001b[0m \u001b[32m━━━━━━━━━━━━━━━━━━━━\u001b[0m\u001b[37m\u001b[0m \u001b[1m1s\u001b[0m 4ms/step - loss: 0.7362 - mean_absolute_error: 0.6567 - mean_squared_error: 0.7362 - val_loss: 0.4492 - val_mean_absolute_error: 0.4312 - val_mean_squared_error: 0.4492\n",
            "Epoch 94/200\n",
            "\u001b[1m96/96\u001b[0m \u001b[32m━━━━━━━━━━━━━━━━━━━━\u001b[0m\u001b[37m\u001b[0m \u001b[1m0s\u001b[0m 5ms/step - loss: 1.0312 - mean_absolute_error: 0.7702 - mean_squared_error: 1.0312 - val_loss: 0.8929 - val_mean_absolute_error: 0.7128 - val_mean_squared_error: 0.8929\n",
            "Epoch 95/200\n",
            "\u001b[1m96/96\u001b[0m \u001b[32m━━━━━━━━━━━━━━━━━━━━\u001b[0m\u001b[37m\u001b[0m \u001b[1m1s\u001b[0m 4ms/step - loss: 0.7062 - mean_absolute_error: 0.6309 - mean_squared_error: 0.7062 - val_loss: 0.3222 - val_mean_absolute_error: 0.2623 - val_mean_squared_error: 0.3222\n",
            "Epoch 96/200\n",
            "\u001b[1m96/96\u001b[0m \u001b[32m━━━━━━━━━━━━━━━━━━━━\u001b[0m\u001b[37m\u001b[0m \u001b[1m0s\u001b[0m 4ms/step - loss: 0.8134 - mean_absolute_error: 0.6508 - mean_squared_error: 0.8134 - val_loss: 0.4897 - val_mean_absolute_error: 0.3004 - val_mean_squared_error: 0.4897\n",
            "Epoch 97/200\n",
            "\u001b[1m96/96\u001b[0m \u001b[32m━━━━━━━━━━━━━━━━━━━━\u001b[0m\u001b[37m\u001b[0m \u001b[1m0s\u001b[0m 3ms/step - loss: 0.7159 - mean_absolute_error: 0.6341 - mean_squared_error: 0.7159 - val_loss: 0.5250 - val_mean_absolute_error: 0.4725 - val_mean_squared_error: 0.5250\n",
            "Epoch 98/200\n",
            "\u001b[1m96/96\u001b[0m \u001b[32m━━━━━━━━━━━━━━━━━━━━\u001b[0m\u001b[37m\u001b[0m \u001b[1m0s\u001b[0m 4ms/step - loss: 0.6509 - mean_absolute_error: 0.6180 - mean_squared_error: 0.6509 - val_loss: 0.6137 - val_mean_absolute_error: 0.5415 - val_mean_squared_error: 0.6137\n",
            "Epoch 99/200\n",
            "\u001b[1m96/96\u001b[0m \u001b[32m━━━━━━━━━━━━━━━━━━━━\u001b[0m\u001b[37m\u001b[0m \u001b[1m0s\u001b[0m 4ms/step - loss: 0.7599 - mean_absolute_error: 0.6535 - mean_squared_error: 0.7599 - val_loss: 0.3017 - val_mean_absolute_error: 0.3504 - val_mean_squared_error: 0.3017\n",
            "Epoch 100/200\n",
            "\u001b[1m96/96\u001b[0m \u001b[32m━━━━━━━━━━━━━━━━━━━━\u001b[0m\u001b[37m\u001b[0m \u001b[1m0s\u001b[0m 4ms/step - loss: 0.6849 - mean_absolute_error: 0.6000 - mean_squared_error: 0.6849 - val_loss: 0.3666 - val_mean_absolute_error: 0.2890 - val_mean_squared_error: 0.3666\n",
            "Epoch 101/200\n",
            "\u001b[1m96/96\u001b[0m \u001b[32m━━━━━━━━━━━━━━━━━━━━\u001b[0m\u001b[37m\u001b[0m \u001b[1m1s\u001b[0m 13ms/step - loss: 0.5378 - mean_absolute_error: 0.5547 - mean_squared_error: 0.5378 - val_loss: 0.3768 - val_mean_absolute_error: 0.3800 - val_mean_squared_error: 0.3768\n",
            "Epoch 102/200\n",
            "\u001b[1m96/96\u001b[0m \u001b[32m━━━━━━━━━━━━━━━━━━━━\u001b[0m\u001b[37m\u001b[0m \u001b[1m2s\u001b[0m 5ms/step - loss: 0.6897 - mean_absolute_error: 0.6247 - mean_squared_error: 0.6897 - val_loss: 0.2992 - val_mean_absolute_error: 0.2831 - val_mean_squared_error: 0.2992\n",
            "Epoch 103/200\n",
            "\u001b[1m96/96\u001b[0m \u001b[32m━━━━━━━━━━━━━━━━━━━━\u001b[0m\u001b[37m\u001b[0m \u001b[1m1s\u001b[0m 6ms/step - loss: 0.6457 - mean_absolute_error: 0.5882 - mean_squared_error: 0.6457 - val_loss: 1.1593 - val_mean_absolute_error: 0.5939 - val_mean_squared_error: 1.1593\n",
            "Epoch 104/200\n",
            "\u001b[1m96/96\u001b[0m \u001b[32m━━━━━━━━━━━━━━━━━━━━\u001b[0m\u001b[37m\u001b[0m \u001b[1m1s\u001b[0m 6ms/step - loss: 0.6273 - mean_absolute_error: 0.6204 - mean_squared_error: 0.6273 - val_loss: 0.2942 - val_mean_absolute_error: 0.3854 - val_mean_squared_error: 0.2942\n",
            "Epoch 105/200\n",
            "\u001b[1m96/96\u001b[0m \u001b[32m━━━━━━━━━━━━━━━━━━━━\u001b[0m\u001b[37m\u001b[0m \u001b[1m1s\u001b[0m 5ms/step - loss: 0.8125 - mean_absolute_error: 0.6160 - mean_squared_error: 0.8125 - val_loss: 0.3510 - val_mean_absolute_error: 0.3221 - val_mean_squared_error: 0.3510\n",
            "Epoch 106/200\n",
            "\u001b[1m96/96\u001b[0m \u001b[32m━━━━━━━━━━━━━━━━━━━━\u001b[0m\u001b[37m\u001b[0m \u001b[1m1s\u001b[0m 5ms/step - loss: 0.7445 - mean_absolute_error: 0.6523 - mean_squared_error: 0.7445 - val_loss: 0.5171 - val_mean_absolute_error: 0.5297 - val_mean_squared_error: 0.5171\n",
            "Epoch 107/200\n",
            "\u001b[1m96/96\u001b[0m \u001b[32m━━━━━━━━━━━━━━━━━━━━\u001b[0m\u001b[37m\u001b[0m \u001b[1m0s\u001b[0m 4ms/step - loss: 0.5662 - mean_absolute_error: 0.5665 - mean_squared_error: 0.5662 - val_loss: 0.5062 - val_mean_absolute_error: 0.2828 - val_mean_squared_error: 0.5062\n",
            "Epoch 108/200\n",
            "\u001b[1m96/96\u001b[0m \u001b[32m━━━━━━━━━━━━━━━━━━━━\u001b[0m\u001b[37m\u001b[0m \u001b[1m1s\u001b[0m 4ms/step - loss: 0.7335 - mean_absolute_error: 0.6146 - mean_squared_error: 0.7335 - val_loss: 0.5746 - val_mean_absolute_error: 0.2944 - val_mean_squared_error: 0.5746\n",
            "Epoch 109/200\n",
            "\u001b[1m96/96\u001b[0m \u001b[32m━━━━━━━━━━━━━━━━━━━━\u001b[0m\u001b[37m\u001b[0m \u001b[1m0s\u001b[0m 4ms/step - loss: 0.6617 - mean_absolute_error: 0.6226 - mean_squared_error: 0.6617 - val_loss: 0.3593 - val_mean_absolute_error: 0.3879 - val_mean_squared_error: 0.3593\n",
            "Epoch 110/200\n",
            "\u001b[1m96/96\u001b[0m \u001b[32m━━━━━━━━━━━━━━━━━━━━\u001b[0m\u001b[37m\u001b[0m \u001b[1m1s\u001b[0m 5ms/step - loss: 0.5502 - mean_absolute_error: 0.5563 - mean_squared_error: 0.5502 - val_loss: 0.4423 - val_mean_absolute_error: 0.3163 - val_mean_squared_error: 0.4423\n",
            "Epoch 111/200\n",
            "\u001b[1m96/96\u001b[0m \u001b[32m━━━━━━━━━━━━━━━━━━━━\u001b[0m\u001b[37m\u001b[0m \u001b[1m1s\u001b[0m 4ms/step - loss: 0.6317 - mean_absolute_error: 0.6079 - mean_squared_error: 0.6317 - val_loss: 0.9661 - val_mean_absolute_error: 0.4592 - val_mean_squared_error: 0.9661\n",
            "Epoch 112/200\n",
            "\u001b[1m96/96\u001b[0m \u001b[32m━━━━━━━━━━━━━━━━━━━━\u001b[0m\u001b[37m\u001b[0m \u001b[1m0s\u001b[0m 5ms/step - loss: 0.7509 - mean_absolute_error: 0.6369 - mean_squared_error: 0.7509 - val_loss: 1.5666 - val_mean_absolute_error: 0.6072 - val_mean_squared_error: 1.5666\n",
            "Epoch 113/200\n",
            "\u001b[1m96/96\u001b[0m \u001b[32m━━━━━━━━━━━━━━━━━━━━\u001b[0m\u001b[37m\u001b[0m \u001b[1m0s\u001b[0m 4ms/step - loss: 0.8741 - mean_absolute_error: 0.6858 - mean_squared_error: 0.8741 - val_loss: 0.4864 - val_mean_absolute_error: 0.4574 - val_mean_squared_error: 0.4864\n",
            "Epoch 114/200\n",
            "\u001b[1m96/96\u001b[0m \u001b[32m━━━━━━━━━━━━━━━━━━━━\u001b[0m\u001b[37m\u001b[0m \u001b[1m1s\u001b[0m 5ms/step - loss: 0.6121 - mean_absolute_error: 0.5649 - mean_squared_error: 0.6121 - val_loss: 0.4658 - val_mean_absolute_error: 0.2640 - val_mean_squared_error: 0.4658\n",
            "Epoch 115/200\n",
            "\u001b[1m96/96\u001b[0m \u001b[32m━━━━━━━━━━━━━━━━━━━━\u001b[0m\u001b[37m\u001b[0m \u001b[1m0s\u001b[0m 4ms/step - loss: 0.6728 - mean_absolute_error: 0.6191 - mean_squared_error: 0.6728 - val_loss: 1.2700 - val_mean_absolute_error: 0.6395 - val_mean_squared_error: 1.2700\n",
            "Epoch 116/200\n",
            "\u001b[1m96/96\u001b[0m \u001b[32m━━━━━━━━━━━━━━━━━━━━\u001b[0m\u001b[37m\u001b[0m \u001b[1m1s\u001b[0m 4ms/step - loss: 0.7088 - mean_absolute_error: 0.5959 - mean_squared_error: 0.7088 - val_loss: 0.3720 - val_mean_absolute_error: 0.2557 - val_mean_squared_error: 0.3720\n",
            "Epoch 117/200\n",
            "\u001b[1m96/96\u001b[0m \u001b[32m━━━━━━━━━━━━━━━━━━━━\u001b[0m\u001b[37m\u001b[0m \u001b[1m1s\u001b[0m 5ms/step - loss: 0.6535 - mean_absolute_error: 0.6246 - mean_squared_error: 0.6535 - val_loss: 0.4543 - val_mean_absolute_error: 0.4125 - val_mean_squared_error: 0.4543\n",
            "Epoch 118/200\n",
            "\u001b[1m96/96\u001b[0m \u001b[32m━━━━━━━━━━━━━━━━━━━━\u001b[0m\u001b[37m\u001b[0m \u001b[1m0s\u001b[0m 4ms/step - loss: 0.5685 - mean_absolute_error: 0.5567 - mean_squared_error: 0.5685 - val_loss: 0.8070 - val_mean_absolute_error: 0.4581 - val_mean_squared_error: 0.8070\n",
            "Epoch 119/200\n",
            "\u001b[1m96/96\u001b[0m \u001b[32m━━━━━━━━━━━━━━━━━━━━\u001b[0m\u001b[37m\u001b[0m \u001b[1m1s\u001b[0m 5ms/step - loss: 0.5850 - mean_absolute_error: 0.5673 - mean_squared_error: 0.5850 - val_loss: 0.7163 - val_mean_absolute_error: 0.3820 - val_mean_squared_error: 0.7163\n",
            "Epoch 120/200\n",
            "\u001b[1m96/96\u001b[0m \u001b[32m━━━━━━━━━━━━━━━━━━━━\u001b[0m\u001b[37m\u001b[0m \u001b[1m0s\u001b[0m 4ms/step - loss: 0.6927 - mean_absolute_error: 0.6116 - mean_squared_error: 0.6927 - val_loss: 0.6163 - val_mean_absolute_error: 0.5278 - val_mean_squared_error: 0.6163\n",
            "Epoch 121/200\n",
            "\u001b[1m96/96\u001b[0m \u001b[32m━━━━━━━━━━━━━━━━━━━━\u001b[0m\u001b[37m\u001b[0m \u001b[1m1s\u001b[0m 4ms/step - loss: 0.7125 - mean_absolute_error: 0.6276 - mean_squared_error: 0.7125 - val_loss: 0.8565 - val_mean_absolute_error: 0.3482 - val_mean_squared_error: 0.8565\n",
            "Epoch 122/200\n",
            "\u001b[1m96/96\u001b[0m \u001b[32m━━━━━━━━━━━━━━━━━━━━\u001b[0m\u001b[37m\u001b[0m \u001b[1m1s\u001b[0m 4ms/step - loss: 0.5513 - mean_absolute_error: 0.5820 - mean_squared_error: 0.5513 - val_loss: 0.9268 - val_mean_absolute_error: 0.3277 - val_mean_squared_error: 0.9268\n",
            "Epoch 123/200\n",
            "\u001b[1m96/96\u001b[0m \u001b[32m━━━━━━━━━━━━━━━━━━━━\u001b[0m\u001b[37m\u001b[0m \u001b[1m0s\u001b[0m 4ms/step - loss: 0.5961 - mean_absolute_error: 0.5731 - mean_squared_error: 0.5961 - val_loss: 1.2746 - val_mean_absolute_error: 0.5768 - val_mean_squared_error: 1.2746\n",
            "Epoch 124/200\n",
            "\u001b[1m96/96\u001b[0m \u001b[32m━━━━━━━━━━━━━━━━━━━━\u001b[0m\u001b[37m\u001b[0m \u001b[1m1s\u001b[0m 4ms/step - loss: 0.6041 - mean_absolute_error: 0.5595 - mean_squared_error: 0.6041 - val_loss: 0.7467 - val_mean_absolute_error: 0.2844 - val_mean_squared_error: 0.7467\n",
            "Epoch 125/200\n",
            "\u001b[1m96/96\u001b[0m \u001b[32m━━━━━━━━━━━━━━━━━━━━\u001b[0m\u001b[37m\u001b[0m \u001b[1m0s\u001b[0m 5ms/step - loss: 0.6399 - mean_absolute_error: 0.6009 - mean_squared_error: 0.6399 - val_loss: 0.6919 - val_mean_absolute_error: 0.4919 - val_mean_squared_error: 0.6919\n",
            "Epoch 126/200\n",
            "\u001b[1m96/96\u001b[0m \u001b[32m━━━━━━━━━━━━━━━━━━━━\u001b[0m\u001b[37m\u001b[0m \u001b[1m1s\u001b[0m 5ms/step - loss: 0.5217 - mean_absolute_error: 0.5438 - mean_squared_error: 0.5217 - val_loss: 0.3884 - val_mean_absolute_error: 0.3060 - val_mean_squared_error: 0.3884\n",
            "Epoch 127/200\n",
            "\u001b[1m96/96\u001b[0m \u001b[32m━━━━━━━━━━━━━━━━━━━━\u001b[0m\u001b[37m\u001b[0m \u001b[1m1s\u001b[0m 6ms/step - loss: 0.5783 - mean_absolute_error: 0.5364 - mean_squared_error: 0.5783 - val_loss: 0.4123 - val_mean_absolute_error: 0.4218 - val_mean_squared_error: 0.4123\n",
            "Epoch 128/200\n",
            "\u001b[1m96/96\u001b[0m \u001b[32m━━━━━━━━━━━━━━━━━━━━\u001b[0m\u001b[37m\u001b[0m \u001b[1m1s\u001b[0m 6ms/step - loss: 0.5635 - mean_absolute_error: 0.5625 - mean_squared_error: 0.5635 - val_loss: 0.5827 - val_mean_absolute_error: 0.2673 - val_mean_squared_error: 0.5827\n",
            "Epoch 129/200\n",
            "\u001b[1m96/96\u001b[0m \u001b[32m━━━━━━━━━━━━━━━━━━━━\u001b[0m\u001b[37m\u001b[0m \u001b[1m1s\u001b[0m 5ms/step - loss: 0.5742 - mean_absolute_error: 0.5642 - mean_squared_error: 0.5742 - val_loss: 0.3957 - val_mean_absolute_error: 0.3285 - val_mean_squared_error: 0.3957\n",
            "Epoch 130/200\n",
            "\u001b[1m96/96\u001b[0m \u001b[32m━━━━━━━━━━━━━━━━━━━━\u001b[0m\u001b[37m\u001b[0m \u001b[1m1s\u001b[0m 4ms/step - loss: 0.5833 - mean_absolute_error: 0.5581 - mean_squared_error: 0.5833 - val_loss: 0.4217 - val_mean_absolute_error: 0.3536 - val_mean_squared_error: 0.4217\n",
            "Epoch 131/200\n",
            "\u001b[1m96/96\u001b[0m \u001b[32m━━━━━━━━━━━━━━━━━━━━\u001b[0m\u001b[37m\u001b[0m \u001b[1m1s\u001b[0m 6ms/step - loss: 0.5660 - mean_absolute_error: 0.5635 - mean_squared_error: 0.5660 - val_loss: 0.9396 - val_mean_absolute_error: 0.2836 - val_mean_squared_error: 0.9396\n",
            "Epoch 132/200\n",
            "\u001b[1m96/96\u001b[0m \u001b[32m━━━━━━━━━━━━━━━━━━━━\u001b[0m\u001b[37m\u001b[0m \u001b[1m1s\u001b[0m 6ms/step - loss: 0.8747 - mean_absolute_error: 0.7042 - mean_squared_error: 0.8747 - val_loss: 0.8535 - val_mean_absolute_error: 0.3631 - val_mean_squared_error: 0.8535\n",
            "Epoch 133/200\n",
            "\u001b[1m96/96\u001b[0m \u001b[32m━━━━━━━━━━━━━━━━━━━━\u001b[0m\u001b[37m\u001b[0m \u001b[1m0s\u001b[0m 4ms/step - loss: 0.6356 - mean_absolute_error: 0.5963 - mean_squared_error: 0.6356 - val_loss: 0.4426 - val_mean_absolute_error: 0.2895 - val_mean_squared_error: 0.4426\n",
            "Epoch 134/200\n",
            "\u001b[1m96/96\u001b[0m \u001b[32m━━━━━━━━━━━━━━━━━━━━\u001b[0m\u001b[37m\u001b[0m \u001b[1m0s\u001b[0m 5ms/step - loss: 0.4991 - mean_absolute_error: 0.5038 - mean_squared_error: 0.4991 - val_loss: 0.3736 - val_mean_absolute_error: 0.2951 - val_mean_squared_error: 0.3736\n",
            "Epoch 135/200\n",
            "\u001b[1m96/96\u001b[0m \u001b[32m━━━━━━━━━━━━━━━━━━━━\u001b[0m\u001b[37m\u001b[0m \u001b[1m0s\u001b[0m 4ms/step - loss: 0.6662 - mean_absolute_error: 0.5862 - mean_squared_error: 0.6662 - val_loss: 0.3295 - val_mean_absolute_error: 0.2970 - val_mean_squared_error: 0.3295\n",
            "Epoch 136/200\n",
            "\u001b[1m96/96\u001b[0m \u001b[32m━━━━━━━━━━━━━━━━━━━━\u001b[0m\u001b[37m\u001b[0m \u001b[1m1s\u001b[0m 4ms/step - loss: 0.5840 - mean_absolute_error: 0.5806 - mean_squared_error: 0.5840 - val_loss: 0.5754 - val_mean_absolute_error: 0.4043 - val_mean_squared_error: 0.5754\n",
            "Epoch 137/200\n",
            "\u001b[1m96/96\u001b[0m \u001b[32m━━━━━━━━━━━━━━━━━━━━\u001b[0m\u001b[37m\u001b[0m \u001b[1m0s\u001b[0m 3ms/step - loss: 0.6108 - mean_absolute_error: 0.5626 - mean_squared_error: 0.6108 - val_loss: 0.5504 - val_mean_absolute_error: 0.3355 - val_mean_squared_error: 0.5504\n",
            "Epoch 138/200\n",
            "\u001b[1m96/96\u001b[0m \u001b[32m━━━━━━━━━━━━━━━━━━━━\u001b[0m\u001b[37m\u001b[0m \u001b[1m1s\u001b[0m 5ms/step - loss: 0.4831 - mean_absolute_error: 0.5013 - mean_squared_error: 0.4831 - val_loss: 0.7855 - val_mean_absolute_error: 0.5151 - val_mean_squared_error: 0.7855\n",
            "Epoch 139/200\n",
            "\u001b[1m96/96\u001b[0m \u001b[32m━━━━━━━━━━━━━━━━━━━━\u001b[0m\u001b[37m\u001b[0m \u001b[1m0s\u001b[0m 4ms/step - loss: 0.6664 - mean_absolute_error: 0.6215 - mean_squared_error: 0.6664 - val_loss: 0.5020 - val_mean_absolute_error: 0.4605 - val_mean_squared_error: 0.5020\n",
            "Epoch 140/200\n",
            "\u001b[1m96/96\u001b[0m \u001b[32m━━━━━━━━━━━━━━━━━━━━\u001b[0m\u001b[37m\u001b[0m \u001b[1m1s\u001b[0m 5ms/step - loss: 0.6028 - mean_absolute_error: 0.5794 - mean_squared_error: 0.6028 - val_loss: 0.4157 - val_mean_absolute_error: 0.3772 - val_mean_squared_error: 0.4157\n",
            "Epoch 141/200\n",
            "\u001b[1m96/96\u001b[0m \u001b[32m━━━━━━━━━━━━━━━━━━━━\u001b[0m\u001b[37m\u001b[0m \u001b[1m0s\u001b[0m 4ms/step - loss: 0.5691 - mean_absolute_error: 0.5671 - mean_squared_error: 0.5691 - val_loss: 0.4794 - val_mean_absolute_error: 0.4281 - val_mean_squared_error: 0.4794\n",
            "Epoch 142/200\n",
            "\u001b[1m96/96\u001b[0m \u001b[32m━━━━━━━━━━━━━━━━━━━━\u001b[0m\u001b[37m\u001b[0m \u001b[1m0s\u001b[0m 5ms/step - loss: 0.5839 - mean_absolute_error: 0.5446 - mean_squared_error: 0.5839 - val_loss: 0.4145 - val_mean_absolute_error: 0.2653 - val_mean_squared_error: 0.4145\n",
            "Epoch 143/200\n",
            "\u001b[1m96/96\u001b[0m \u001b[32m━━━━━━━━━━━━━━━━━━━━\u001b[0m\u001b[37m\u001b[0m \u001b[1m0s\u001b[0m 4ms/step - loss: 0.4872 - mean_absolute_error: 0.5071 - mean_squared_error: 0.4872 - val_loss: 0.9829 - val_mean_absolute_error: 0.3012 - val_mean_squared_error: 0.9829\n",
            "Epoch 144/200\n",
            "\u001b[1m96/96\u001b[0m \u001b[32m━━━━━━━━━━━━━━━━━━━━\u001b[0m\u001b[37m\u001b[0m \u001b[1m1s\u001b[0m 4ms/step - loss: 0.6670 - mean_absolute_error: 0.6282 - mean_squared_error: 0.6670 - val_loss: 0.4183 - val_mean_absolute_error: 0.4207 - val_mean_squared_error: 0.4183\n",
            "Epoch 145/200\n",
            "\u001b[1m96/96\u001b[0m \u001b[32m━━━━━━━━━━━━━━━━━━━━\u001b[0m\u001b[37m\u001b[0m \u001b[1m0s\u001b[0m 4ms/step - loss: 0.6382 - mean_absolute_error: 0.5819 - mean_squared_error: 0.6382 - val_loss: 0.4474 - val_mean_absolute_error: 0.3373 - val_mean_squared_error: 0.4474\n",
            "Epoch 146/200\n",
            "\u001b[1m96/96\u001b[0m \u001b[32m━━━━━━━━━━━━━━━━━━━━\u001b[0m\u001b[37m\u001b[0m \u001b[1m1s\u001b[0m 4ms/step - loss: 0.5810 - mean_absolute_error: 0.5611 - mean_squared_error: 0.5810 - val_loss: 0.4140 - val_mean_absolute_error: 0.4014 - val_mean_squared_error: 0.4140\n",
            "Epoch 147/200\n",
            "\u001b[1m96/96\u001b[0m \u001b[32m━━━━━━━━━━━━━━━━━━━━\u001b[0m\u001b[37m\u001b[0m \u001b[1m0s\u001b[0m 4ms/step - loss: 0.4886 - mean_absolute_error: 0.5231 - mean_squared_error: 0.4886 - val_loss: 0.2728 - val_mean_absolute_error: 0.2739 - val_mean_squared_error: 0.2728\n",
            "Epoch 148/200\n",
            "\u001b[1m96/96\u001b[0m \u001b[32m━━━━━━━━━━━━━━━━━━━━\u001b[0m\u001b[37m\u001b[0m \u001b[1m0s\u001b[0m 4ms/step - loss: 0.5875 - mean_absolute_error: 0.5810 - mean_squared_error: 0.5875 - val_loss: 0.4568 - val_mean_absolute_error: 0.3952 - val_mean_squared_error: 0.4568\n",
            "Epoch 149/200\n",
            "\u001b[1m96/96\u001b[0m \u001b[32m━━━━━━━━━━━━━━━━━━━━\u001b[0m\u001b[37m\u001b[0m \u001b[1m0s\u001b[0m 4ms/step - loss: 0.6034 - mean_absolute_error: 0.5404 - mean_squared_error: 0.6034 - val_loss: 0.4086 - val_mean_absolute_error: 0.4026 - val_mean_squared_error: 0.4086\n",
            "Epoch 150/200\n",
            "\u001b[1m96/96\u001b[0m \u001b[32m━━━━━━━━━━━━━━━━━━━━\u001b[0m\u001b[37m\u001b[0m \u001b[1m0s\u001b[0m 5ms/step - loss: 0.5054 - mean_absolute_error: 0.5106 - mean_squared_error: 0.5054 - val_loss: 0.3691 - val_mean_absolute_error: 0.2512 - val_mean_squared_error: 0.3691\n",
            "Epoch 151/200\n",
            "\u001b[1m96/96\u001b[0m \u001b[32m━━━━━━━━━━━━━━━━━━━━\u001b[0m\u001b[37m\u001b[0m \u001b[1m0s\u001b[0m 4ms/step - loss: 0.4531 - mean_absolute_error: 0.5102 - mean_squared_error: 0.4531 - val_loss: 0.2523 - val_mean_absolute_error: 0.2899 - val_mean_squared_error: 0.2523\n",
            "Epoch 152/200\n",
            "\u001b[1m96/96\u001b[0m \u001b[32m━━━━━━━━━━━━━━━━━━━━\u001b[0m\u001b[37m\u001b[0m \u001b[1m0s\u001b[0m 5ms/step - loss: 0.6708 - mean_absolute_error: 0.5852 - mean_squared_error: 0.6708 - val_loss: 0.4529 - val_mean_absolute_error: 0.3811 - val_mean_squared_error: 0.4529\n",
            "Epoch 153/200\n",
            "\u001b[1m96/96\u001b[0m \u001b[32m━━━━━━━━━━━━━━━━━━━━\u001b[0m\u001b[37m\u001b[0m \u001b[1m1s\u001b[0m 6ms/step - loss: 0.4826 - mean_absolute_error: 0.4995 - mean_squared_error: 0.4826 - val_loss: 0.4649 - val_mean_absolute_error: 0.3233 - val_mean_squared_error: 0.4649\n",
            "Epoch 154/200\n",
            "\u001b[1m96/96\u001b[0m \u001b[32m━━━━━━━━━━━━━━━━━━━━\u001b[0m\u001b[37m\u001b[0m \u001b[1m1s\u001b[0m 6ms/step - loss: 0.4973 - mean_absolute_error: 0.5179 - mean_squared_error: 0.4973 - val_loss: 0.5702 - val_mean_absolute_error: 0.5312 - val_mean_squared_error: 0.5702\n",
            "Epoch 155/200\n",
            "\u001b[1m96/96\u001b[0m \u001b[32m━━━━━━━━━━━━━━━━━━━━\u001b[0m\u001b[37m\u001b[0m \u001b[1m1s\u001b[0m 6ms/step - loss: 0.4311 - mean_absolute_error: 0.4915 - mean_squared_error: 0.4311 - val_loss: 0.6578 - val_mean_absolute_error: 0.3205 - val_mean_squared_error: 0.6578\n",
            "Epoch 156/200\n",
            "\u001b[1m96/96\u001b[0m \u001b[32m━━━━━━━━━━━━━━━━━━━━\u001b[0m\u001b[37m\u001b[0m \u001b[1m1s\u001b[0m 6ms/step - loss: 0.4453 - mean_absolute_error: 0.5074 - mean_squared_error: 0.4453 - val_loss: 0.4339 - val_mean_absolute_error: 0.3787 - val_mean_squared_error: 0.4339\n",
            "Epoch 157/200\n",
            "\u001b[1m96/96\u001b[0m \u001b[32m━━━━━━━━━━━━━━━━━━━━\u001b[0m\u001b[37m\u001b[0m \u001b[1m1s\u001b[0m 6ms/step - loss: 0.4671 - mean_absolute_error: 0.5251 - mean_squared_error: 0.4671 - val_loss: 0.3109 - val_mean_absolute_error: 0.3249 - val_mean_squared_error: 0.3109\n",
            "Epoch 158/200\n",
            "\u001b[1m96/96\u001b[0m \u001b[32m━━━━━━━━━━━━━━━━━━━━\u001b[0m\u001b[37m\u001b[0m \u001b[1m1s\u001b[0m 4ms/step - loss: 0.4385 - mean_absolute_error: 0.4991 - mean_squared_error: 0.4385 - val_loss: 0.6345 - val_mean_absolute_error: 0.3917 - val_mean_squared_error: 0.6345\n",
            "Epoch 159/200\n",
            "\u001b[1m96/96\u001b[0m \u001b[32m━━━━━━━━━━━━━━━━━━━━\u001b[0m\u001b[37m\u001b[0m \u001b[1m1s\u001b[0m 5ms/step - loss: 0.6560 - mean_absolute_error: 0.5858 - mean_squared_error: 0.6560 - val_loss: 0.3589 - val_mean_absolute_error: 0.2155 - val_mean_squared_error: 0.3589\n",
            "Epoch 160/200\n",
            "\u001b[1m96/96\u001b[0m \u001b[32m━━━━━━━━━━━━━━━━━━━━\u001b[0m\u001b[37m\u001b[0m \u001b[1m0s\u001b[0m 3ms/step - loss: 0.5541 - mean_absolute_error: 0.5343 - mean_squared_error: 0.5541 - val_loss: 0.2728 - val_mean_absolute_error: 0.2381 - val_mean_squared_error: 0.2728\n",
            "Epoch 161/200\n",
            "\u001b[1m96/96\u001b[0m \u001b[32m━━━━━━━━━━━━━━━━━━━━\u001b[0m\u001b[37m\u001b[0m \u001b[1m1s\u001b[0m 5ms/step - loss: 0.6204 - mean_absolute_error: 0.5840 - mean_squared_error: 0.6204 - val_loss: 0.6456 - val_mean_absolute_error: 0.3305 - val_mean_squared_error: 0.6456\n",
            "Epoch 162/200\n",
            "\u001b[1m96/96\u001b[0m \u001b[32m━━━━━━━━━━━━━━━━━━━━\u001b[0m\u001b[37m\u001b[0m \u001b[1m0s\u001b[0m 4ms/step - loss: 0.4898 - mean_absolute_error: 0.5342 - mean_squared_error: 0.4898 - val_loss: 0.4209 - val_mean_absolute_error: 0.2736 - val_mean_squared_error: 0.4209\n",
            "Epoch 163/200\n",
            "\u001b[1m96/96\u001b[0m \u001b[32m━━━━━━━━━━━━━━━━━━━━\u001b[0m\u001b[37m\u001b[0m \u001b[1m1s\u001b[0m 4ms/step - loss: 0.4234 - mean_absolute_error: 0.5101 - mean_squared_error: 0.4234 - val_loss: 0.3207 - val_mean_absolute_error: 0.2655 - val_mean_squared_error: 0.3207\n",
            "Epoch 164/200\n",
            "\u001b[1m96/96\u001b[0m \u001b[32m━━━━━━━━━━━━━━━━━━━━\u001b[0m\u001b[37m\u001b[0m \u001b[1m1s\u001b[0m 5ms/step - loss: 0.4950 - mean_absolute_error: 0.4801 - mean_squared_error: 0.4950 - val_loss: 0.3317 - val_mean_absolute_error: 0.2656 - val_mean_squared_error: 0.3317\n",
            "Epoch 165/200\n",
            "\u001b[1m96/96\u001b[0m \u001b[32m━━━━━━━━━━━━━━━━━━━━\u001b[0m\u001b[37m\u001b[0m \u001b[1m1s\u001b[0m 4ms/step - loss: 0.6422 - mean_absolute_error: 0.6038 - mean_squared_error: 0.6422 - val_loss: 0.6109 - val_mean_absolute_error: 0.5713 - val_mean_squared_error: 0.6109\n",
            "Epoch 166/200\n",
            "\u001b[1m96/96\u001b[0m \u001b[32m━━━━━━━━━━━━━━━━━━━━\u001b[0m\u001b[37m\u001b[0m \u001b[1m1s\u001b[0m 5ms/step - loss: 0.4432 - mean_absolute_error: 0.5018 - mean_squared_error: 0.4432 - val_loss: 0.6685 - val_mean_absolute_error: 0.3463 - val_mean_squared_error: 0.6685\n",
            "Epoch 167/200\n",
            "\u001b[1m96/96\u001b[0m \u001b[32m━━━━━━━━━━━━━━━━━━━━\u001b[0m\u001b[37m\u001b[0m \u001b[1m0s\u001b[0m 4ms/step - loss: 0.5666 - mean_absolute_error: 0.5556 - mean_squared_error: 0.5666 - val_loss: 0.5758 - val_mean_absolute_error: 0.4096 - val_mean_squared_error: 0.5758\n",
            "Epoch 168/200\n",
            "\u001b[1m96/96\u001b[0m \u001b[32m━━━━━━━━━━━━━━━━━━━━\u001b[0m\u001b[37m\u001b[0m \u001b[1m1s\u001b[0m 5ms/step - loss: 0.6212 - mean_absolute_error: 0.5501 - mean_squared_error: 0.6212 - val_loss: 0.5269 - val_mean_absolute_error: 0.4230 - val_mean_squared_error: 0.5269\n",
            "Epoch 169/200\n",
            "\u001b[1m96/96\u001b[0m \u001b[32m━━━━━━━━━━━━━━━━━━━━\u001b[0m\u001b[37m\u001b[0m \u001b[1m1s\u001b[0m 4ms/step - loss: 0.5568 - mean_absolute_error: 0.5500 - mean_squared_error: 0.5568 - val_loss: 0.2832 - val_mean_absolute_error: 0.2576 - val_mean_squared_error: 0.2832\n",
            "Epoch 170/200\n",
            "\u001b[1m96/96\u001b[0m \u001b[32m━━━━━━━━━━━━━━━━━━━━\u001b[0m\u001b[37m\u001b[0m \u001b[1m1s\u001b[0m 5ms/step - loss: 0.3283 - mean_absolute_error: 0.4427 - mean_squared_error: 0.3283 - val_loss: 0.2791 - val_mean_absolute_error: 0.2730 - val_mean_squared_error: 0.2791\n",
            "Epoch 171/200\n",
            "\u001b[1m96/96\u001b[0m \u001b[32m━━━━━━━━━━━━━━━━━━━━\u001b[0m\u001b[37m\u001b[0m \u001b[1m1s\u001b[0m 4ms/step - loss: 0.5510 - mean_absolute_error: 0.5020 - mean_squared_error: 0.5510 - val_loss: 0.6701 - val_mean_absolute_error: 0.4259 - val_mean_squared_error: 0.6701\n",
            "Epoch 172/200\n",
            "\u001b[1m96/96\u001b[0m \u001b[32m━━━━━━━━━━━━━━━━━━━━\u001b[0m\u001b[37m\u001b[0m \u001b[1m0s\u001b[0m 5ms/step - loss: 0.5518 - mean_absolute_error: 0.5315 - mean_squared_error: 0.5518 - val_loss: 0.3915 - val_mean_absolute_error: 0.3317 - val_mean_squared_error: 0.3915\n",
            "Epoch 173/200\n",
            "\u001b[1m96/96\u001b[0m \u001b[32m━━━━━━━━━━━━━━━━━━━━\u001b[0m\u001b[37m\u001b[0m \u001b[1m1s\u001b[0m 5ms/step - loss: 0.4428 - mean_absolute_error: 0.4958 - mean_squared_error: 0.4428 - val_loss: 0.8789 - val_mean_absolute_error: 0.4228 - val_mean_squared_error: 0.8789\n",
            "Epoch 174/200\n",
            "\u001b[1m96/96\u001b[0m \u001b[32m━━━━━━━━━━━━━━━━━━━━\u001b[0m\u001b[37m\u001b[0m \u001b[1m0s\u001b[0m 4ms/step - loss: 0.5445 - mean_absolute_error: 0.5280 - mean_squared_error: 0.5445 - val_loss: 0.9261 - val_mean_absolute_error: 0.5450 - val_mean_squared_error: 0.9261\n",
            "Epoch 175/200\n",
            "\u001b[1m96/96\u001b[0m \u001b[32m━━━━━━━━━━━━━━━━━━━━\u001b[0m\u001b[37m\u001b[0m \u001b[1m1s\u001b[0m 6ms/step - loss: 0.4312 - mean_absolute_error: 0.4818 - mean_squared_error: 0.4312 - val_loss: 0.3036 - val_mean_absolute_error: 0.2690 - val_mean_squared_error: 0.3036\n",
            "Epoch 176/200\n",
            "\u001b[1m96/96\u001b[0m \u001b[32m━━━━━━━━━━━━━━━━━━━━\u001b[0m\u001b[37m\u001b[0m \u001b[1m1s\u001b[0m 6ms/step - loss: 0.4136 - mean_absolute_error: 0.4871 - mean_squared_error: 0.4136 - val_loss: 0.3371 - val_mean_absolute_error: 0.3941 - val_mean_squared_error: 0.3371\n",
            "Epoch 177/200\n",
            "\u001b[1m96/96\u001b[0m \u001b[32m━━━━━━━━━━━━━━━━━━━━\u001b[0m\u001b[37m\u001b[0m \u001b[1m1s\u001b[0m 6ms/step - loss: 0.4213 - mean_absolute_error: 0.4867 - mean_squared_error: 0.4213 - val_loss: 0.8027 - val_mean_absolute_error: 0.5086 - val_mean_squared_error: 0.8027\n",
            "Epoch 178/200\n",
            "\u001b[1m96/96\u001b[0m \u001b[32m━━━━━━━━━━━━━━━━━━━━\u001b[0m\u001b[37m\u001b[0m \u001b[1m1s\u001b[0m 5ms/step - loss: 0.8678 - mean_absolute_error: 0.6696 - mean_squared_error: 0.8678 - val_loss: 0.4904 - val_mean_absolute_error: 0.4604 - val_mean_squared_error: 0.4904\n",
            "Epoch 179/200\n",
            "\u001b[1m96/96\u001b[0m \u001b[32m━━━━━━━━━━━━━━━━━━━━\u001b[0m\u001b[37m\u001b[0m \u001b[1m1s\u001b[0m 5ms/step - loss: 0.5855 - mean_absolute_error: 0.5714 - mean_squared_error: 0.5855 - val_loss: 1.8828 - val_mean_absolute_error: 0.7823 - val_mean_squared_error: 1.8828\n",
            "Epoch 180/200\n",
            "\u001b[1m96/96\u001b[0m \u001b[32m━━━━━━━━━━━━━━━━━━━━\u001b[0m\u001b[37m\u001b[0m \u001b[1m1s\u001b[0m 5ms/step - loss: 0.6042 - mean_absolute_error: 0.5549 - mean_squared_error: 0.6042 - val_loss: 0.6467 - val_mean_absolute_error: 0.4599 - val_mean_squared_error: 0.6467\n",
            "Epoch 181/200\n",
            "\u001b[1m96/96\u001b[0m \u001b[32m━━━━━━━━━━━━━━━━━━━━\u001b[0m\u001b[37m\u001b[0m \u001b[1m1s\u001b[0m 5ms/step - loss: 0.4712 - mean_absolute_error: 0.5323 - mean_squared_error: 0.4712 - val_loss: 1.0781 - val_mean_absolute_error: 0.4947 - val_mean_squared_error: 1.0781\n",
            "Epoch 182/200\n",
            "\u001b[1m96/96\u001b[0m \u001b[32m━━━━━━━━━━━━━━━━━━━━\u001b[0m\u001b[37m\u001b[0m \u001b[1m1s\u001b[0m 4ms/step - loss: 0.6336 - mean_absolute_error: 0.6025 - mean_squared_error: 0.6336 - val_loss: 0.4120 - val_mean_absolute_error: 0.3328 - val_mean_squared_error: 0.4120\n",
            "Epoch 183/200\n",
            "\u001b[1m96/96\u001b[0m \u001b[32m━━━━━━━━━━━━━━━━━━━━\u001b[0m\u001b[37m\u001b[0m \u001b[1m0s\u001b[0m 4ms/step - loss: 0.6125 - mean_absolute_error: 0.5707 - mean_squared_error: 0.6125 - val_loss: 0.7182 - val_mean_absolute_error: 0.4196 - val_mean_squared_error: 0.7182\n",
            "Epoch 184/200\n",
            "\u001b[1m96/96\u001b[0m \u001b[32m━━━━━━━━━━━━━━━━━━━━\u001b[0m\u001b[37m\u001b[0m \u001b[1m0s\u001b[0m 4ms/step - loss: 0.5469 - mean_absolute_error: 0.5610 - mean_squared_error: 0.5469 - val_loss: 0.5621 - val_mean_absolute_error: 0.3623 - val_mean_squared_error: 0.5621\n",
            "Epoch 185/200\n",
            "\u001b[1m96/96\u001b[0m \u001b[32m━━━━━━━━━━━━━━━━━━━━\u001b[0m\u001b[37m\u001b[0m \u001b[1m1s\u001b[0m 5ms/step - loss: 0.5053 - mean_absolute_error: 0.5286 - mean_squared_error: 0.5053 - val_loss: 0.6391 - val_mean_absolute_error: 0.3063 - val_mean_squared_error: 0.6391\n",
            "Epoch 186/200\n",
            "\u001b[1m96/96\u001b[0m \u001b[32m━━━━━━━━━━━━━━━━━━━━\u001b[0m\u001b[37m\u001b[0m \u001b[1m0s\u001b[0m 5ms/step - loss: 0.5128 - mean_absolute_error: 0.5155 - mean_squared_error: 0.5128 - val_loss: 0.3422 - val_mean_absolute_error: 0.4162 - val_mean_squared_error: 0.3422\n",
            "Epoch 187/200\n",
            "\u001b[1m96/96\u001b[0m \u001b[32m━━━━━━━━━━━━━━━━━━━━\u001b[0m\u001b[37m\u001b[0m \u001b[1m0s\u001b[0m 4ms/step - loss: 0.5377 - mean_absolute_error: 0.5623 - mean_squared_error: 0.5377 - val_loss: 0.3149 - val_mean_absolute_error: 0.2492 - val_mean_squared_error: 0.3149\n",
            "Epoch 188/200\n",
            "\u001b[1m96/96\u001b[0m \u001b[32m━━━━━━━━━━━━━━━━━━━━\u001b[0m\u001b[37m\u001b[0m \u001b[1m0s\u001b[0m 4ms/step - loss: 0.6750 - mean_absolute_error: 0.5924 - mean_squared_error: 0.6750 - val_loss: 0.4186 - val_mean_absolute_error: 0.3617 - val_mean_squared_error: 0.4186\n",
            "Epoch 189/200\n",
            "\u001b[1m96/96\u001b[0m \u001b[32m━━━━━━━━━━━━━━━━━━━━\u001b[0m\u001b[37m\u001b[0m \u001b[1m1s\u001b[0m 5ms/step - loss: 0.5192 - mean_absolute_error: 0.5381 - mean_squared_error: 0.5192 - val_loss: 0.4224 - val_mean_absolute_error: 0.3467 - val_mean_squared_error: 0.4224\n",
            "Epoch 190/200\n",
            "\u001b[1m96/96\u001b[0m \u001b[32m━━━━━━━━━━━━━━━━━━━━\u001b[0m\u001b[37m\u001b[0m \u001b[1m1s\u001b[0m 4ms/step - loss: 0.4583 - mean_absolute_error: 0.5004 - mean_squared_error: 0.4583 - val_loss: 0.4445 - val_mean_absolute_error: 0.4195 - val_mean_squared_error: 0.4445\n",
            "Epoch 191/200\n",
            "\u001b[1m96/96\u001b[0m \u001b[32m━━━━━━━━━━━━━━━━━━━━\u001b[0m\u001b[37m\u001b[0m \u001b[1m1s\u001b[0m 5ms/step - loss: 0.4135 - mean_absolute_error: 0.4804 - mean_squared_error: 0.4135 - val_loss: 1.0200 - val_mean_absolute_error: 0.4862 - val_mean_squared_error: 1.0200\n",
            "Epoch 192/200\n",
            "\u001b[1m96/96\u001b[0m \u001b[32m━━━━━━━━━━━━━━━━━━━━\u001b[0m\u001b[37m\u001b[0m \u001b[1m0s\u001b[0m 4ms/step - loss: 0.5173 - mean_absolute_error: 0.5318 - mean_squared_error: 0.5173 - val_loss: 0.3087 - val_mean_absolute_error: 0.3737 - val_mean_squared_error: 0.3087\n",
            "Epoch 193/200\n",
            "\u001b[1m96/96\u001b[0m \u001b[32m━━━━━━━━━━━━━━━━━━━━\u001b[0m\u001b[37m\u001b[0m \u001b[1m1s\u001b[0m 3ms/step - loss: 0.4697 - mean_absolute_error: 0.5102 - mean_squared_error: 0.4697 - val_loss: 0.3166 - val_mean_absolute_error: 0.2949 - val_mean_squared_error: 0.3166\n",
            "Epoch 194/200\n",
            "\u001b[1m96/96\u001b[0m \u001b[32m━━━━━━━━━━━━━━━━━━━━\u001b[0m\u001b[37m\u001b[0m \u001b[1m1s\u001b[0m 5ms/step - loss: 0.4821 - mean_absolute_error: 0.5109 - mean_squared_error: 0.4821 - val_loss: 0.7006 - val_mean_absolute_error: 0.3024 - val_mean_squared_error: 0.7006\n",
            "Epoch 195/200\n",
            "\u001b[1m96/96\u001b[0m \u001b[32m━━━━━━━━━━━━━━━━━━━━\u001b[0m\u001b[37m\u001b[0m \u001b[1m1s\u001b[0m 5ms/step - loss: 0.5419 - mean_absolute_error: 0.5389 - mean_squared_error: 0.5419 - val_loss: 0.5023 - val_mean_absolute_error: 0.3420 - val_mean_squared_error: 0.5023\n",
            "Epoch 196/200\n",
            "\u001b[1m96/96\u001b[0m \u001b[32m━━━━━━━━━━━━━━━━━━━━\u001b[0m\u001b[37m\u001b[0m \u001b[1m1s\u001b[0m 4ms/step - loss: 0.3902 - mean_absolute_error: 0.4918 - mean_squared_error: 0.3902 - val_loss: 0.5515 - val_mean_absolute_error: 0.2999 - val_mean_squared_error: 0.5515\n",
            "Epoch 197/200\n",
            "\u001b[1m96/96\u001b[0m \u001b[32m━━━━━━━━━━━━━━━━━━━━\u001b[0m\u001b[37m\u001b[0m \u001b[1m0s\u001b[0m 4ms/step - loss: 0.4267 - mean_absolute_error: 0.4840 - mean_squared_error: 0.4267 - val_loss: 0.4318 - val_mean_absolute_error: 0.3464 - val_mean_squared_error: 0.4318\n",
            "Epoch 198/200\n",
            "\u001b[1m96/96\u001b[0m \u001b[32m━━━━━━━━━━━━━━━━━━━━\u001b[0m\u001b[37m\u001b[0m \u001b[1m2s\u001b[0m 16ms/step - loss: 0.4951 - mean_absolute_error: 0.4964 - mean_squared_error: 0.4951 - val_loss: 0.3271 - val_mean_absolute_error: 0.3118 - val_mean_squared_error: 0.3271\n",
            "Epoch 199/200\n",
            "\u001b[1m96/96\u001b[0m \u001b[32m━━━━━━━━━━━━━━━━━━━━\u001b[0m\u001b[37m\u001b[0m \u001b[1m2s\u001b[0m 6ms/step - loss: 0.6898 - mean_absolute_error: 0.5585 - mean_squared_error: 0.6898 - val_loss: 0.8084 - val_mean_absolute_error: 0.6647 - val_mean_squared_error: 0.8084\n",
            "Epoch 200/200\n",
            "\u001b[1m96/96\u001b[0m \u001b[32m━━━━━━━━━━━━━━━━━━━━\u001b[0m\u001b[37m\u001b[0m \u001b[1m1s\u001b[0m 6ms/step - loss: 0.7309 - mean_absolute_error: 0.5810 - mean_squared_error: 0.7309 - val_loss: 0.3445 - val_mean_absolute_error: 0.2992 - val_mean_squared_error: 0.3445\n",
            "\u001b[1m12/12\u001b[0m \u001b[32m━━━━━━━━━━━━━━━━━━━━\u001b[0m\u001b[37m\u001b[0m \u001b[1m0s\u001b[0m 4ms/step - loss: 0.1774 - mean_absolute_error: 0.2603 - mean_squared_error: 0.1774  \n",
            "\u001b[1m12/12\u001b[0m \u001b[32m━━━━━━━━━━━━━━━━━━━━\u001b[0m\u001b[37m\u001b[0m \u001b[1m0s\u001b[0m 4ms/step\n",
            "Test Loss (MSE): 0.344500333070755\n",
            "Mean Absolute Error: 0.2992430627346039\n",
            "Mean Squared Error: 0.344500333070755\n",
            "R-squared Score: 0.9902085357989763\n",
            "RMSE: 0.5869415048263059\n"
          ]
        }
      ]
    },
    {
      "cell_type": "markdown",
      "source": [
        "# Exaplanation of the accuracy measures and model performance"
      ],
      "metadata": {
        "id": "0ZiXQyEZ1YMZ"
      }
    },
    {
      "cell_type": "markdown",
      "source": [
        "1. MSE measures the average squared difference between predicted and actual values, where smaller values indicate better model accuracy. Here, an MSE of 0.3445 is quite low, suggesting that on average, the squared deviations from the actual WRI values are very small. This is a positive indicator, as it suggests the model is making highly accurate predictions.\n",
        "2. MAE represents the average magnitude of errors in the predictions, measured in the same units as the target variable (WRI). With an MAE of 0.2992, the model’s average prediction error is less than 0.3, which is very low for a target variable around 20–30 in scale. This further supports the model’s high accuracy, indicating that predictions are, on average, only slightly off from actual values.\n",
        "3. The R2 score measures the proportion of the variance in the dependent variable that is predictable from the independent variables. An R2 of 0.9902 indicates that the model explains 99.02% of the variance in WRI, which is exceptionally high. This suggests the model has captured the relationships between input features and the target variable very well.\n",
        "4. RMSE is the square root of MSE, providing an error measure on the same scale as WRI. With an RMSE of 0.5869, the model’s predictions deviate from the actual values by less than 1 unit on average. This low RMSE indicates good predictive accuracy."
      ],
      "metadata": {
        "id": "NAZcyKnp1GbE"
      }
    }
  ]
}